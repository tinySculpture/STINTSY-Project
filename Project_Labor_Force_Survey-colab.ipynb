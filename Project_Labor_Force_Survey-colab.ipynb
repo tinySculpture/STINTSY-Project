{
  "cells": [
    {
      "cell_type": "markdown",
      "metadata": {
        "id": "view-in-github",
        "colab_type": "text"
      },
      "source": [
        "<a href=\"https://colab.research.google.com/github/tinySculpture/STINTSY-Project/blob/master/Project_Labor_Force_Survey-colab.ipynb\" target=\"_parent\"><img src=\"https://colab.research.google.com/assets/colab-badge.svg\" alt=\"Open In Colab\"/></a>"
      ]
    },
    {
      "metadata": {
        "id": "aD1tsm27KDcE"
      },
      "cell_type": "markdown",
      "source": [
        "<a href=\"https://colab.research.google.com/github/tinySculpture/STINTSY-Project/blob/master/Project_Labor_Force_Survey-colab.ipynb\" target=\"_parent\"><img src=\"https://colab.research.google.com/assets/colab-badge.svg\" alt=\"Open In Colab\"/></a>"
      ]
    },
    {
      "metadata": {
        "id": "-1ZiarZuKDcG"
      },
      "cell_type": "markdown",
      "source": [
        "# Introduction\n",
        "\n",
        "## Labor Force Survey 2016\n",
        "\n",
        "Taken from the Philippine Statistics Authority (PSA), the dataset is a survey conducted in 2016 with respect in Demographic, Economic Characteristics and Past Quarter Activities of the surveyed individuals in this dataset. (To be enhanced after doing the project code and stuff)\n",
        "\n",
        "## Task\n",
        "\n",
        "Create a machine learning model for a classification task with the target variable: `PUFC23_PCLASS`"
      ]
    },
    {
      "metadata": {
        "id": "QONKcqSlKDcH"
      },
      "cell_type": "markdown",
      "source": [
        "# Description of the Dataset\n",
        "\n",
        "TBA"
      ]
    },
    {
      "metadata": {
        "id": "I4opiSvzKDcH"
      },
      "cell_type": "markdown",
      "source": [
        "# Python libraries and modules used.\n",
        "\n",
        "Imported the necessary libraries\n",
        "- pandas, numpy, matplotlib.pyplot, and seaborn.\n"
      ]
    },
    {
      "metadata": {
        "id": "m0Zqw5VoKDcI"
      },
      "cell_type": "markdown",
      "source": [
        "# Data Preprocessing\n",
        "\n",
        "TBA"
      ]
    },
    {
      "metadata": {
        "id": "lFSf8YqgKDcI"
      },
      "cell_type": "markdown",
      "source": [
        "> ⚠ **Run these when using Google Colab**"
      ]
    },
    {
      "metadata": {
        "id": "-WxXeOylKDcI"
      },
      "cell_type": "code",
      "outputs": [],
      "execution_count": null,
      "source": [
        "# Run for google colab\n",
        "!git clone https://github.com/tinySculpture/STINTSY-Project.git\n",
        "%cd STINTSY-Project/"
      ]
    },
    {
      "metadata": {
        "id": "L95iHdlwKDcJ"
      },
      "cell_type": "code",
      "outputs": [],
      "execution_count": null,
      "source": [
        "!pip install ydata-profiling --quiet"
      ]
    },
    {
      "metadata": {
        "id": "h8GA2cJsKDcJ"
      },
      "cell_type": "markdown",
      "source": [
        "> ⚠ End of Cells for Google Colab"
      ]
    },
    {
      "metadata": {
        "ExecuteTime": {
          "end_time": "2025-03-27T19:44:53.379731Z",
          "start_time": "2025-03-27T19:44:53.275251Z"
        },
        "id": "WLUkNHR5KDcK",
        "outputId": "6779ab0d-ab40-49a4-d2c4-3f6bb6faaa27"
      },
      "cell_type": "code",
      "source": [
        "from itertools import combinations\n",
        "%load_ext autoreload\n",
        "%autoreload 2\n",
        "\n",
        "# Import libraries\n",
        "import pandas as pd\n",
        "import numpy as np\n",
        "import seaborn as sns\n",
        "from ydata_profiling import ProfileReport\n",
        "from sklearn.preprocessing import OneHotEncoder, LabelEncoder\n",
        "\n",
        "sns.set_theme(\"paper\", \"white\")"
      ],
      "outputs": [
        {
          "name": "stdout",
          "output_type": "stream",
          "text": [
            "The autoreload extension is already loaded. To reload it, use:\n",
            "  %reload_ext autoreload\n"
          ]
        }
      ],
      "execution_count": null
    },
    {
      "metadata": {
        "id": "9GoRkVYYKDcK"
      },
      "cell_type": "markdown",
      "source": [
        "## Read dataset"
      ]
    },
    {
      "metadata": {
        "ExecuteTime": {
          "end_time": "2025-03-27T19:44:54.972317Z",
          "start_time": "2025-03-27T19:44:54.474243Z"
        },
        "id": "67Zc0WseKDcK"
      },
      "cell_type": "code",
      "source": [
        "df = pd.read_csv(\"LFS PUF April 2016.CSV\")"
      ],
      "outputs": [],
      "execution_count": null
    },
    {
      "metadata": {
        "id": "UywRG-xSKDcL"
      },
      "cell_type": "markdown",
      "source": [
        "## Create a Profile Report\n",
        "Using ydata-profiling, we can generate a profile report to get an overview of the dataset. A function can be defined to generate the report and save it as an HTML file."
      ]
    },
    {
      "metadata": {
        "ExecuteTime": {
          "end_time": "2025-03-27T19:44:55.740991Z",
          "start_time": "2025-03-27T19:44:55.630200Z"
        },
        "id": "ro1HLqmPKDcL"
      },
      "cell_type": "code",
      "source": [
        "def generate_report(dataframe, filename=\"\"):\n",
        "    report = ProfileReport(dataframe)\n",
        "    report.to_file(filename + \".html\")"
      ],
      "outputs": [],
      "execution_count": null
    },
    {
      "metadata": {
        "ExecuteTime": {
          "end_time": "2025-03-27T19:45:53.161779Z",
          "start_time": "2025-03-27T19:44:59.559489Z"
        },
        "id": "F6a5OEziKDcL",
        "outputId": "d75f5f0e-66d0-4323-dc24-b7ed8cb4c333",
        "colab": {
          "referenced_widgets": [
            "38f10233ff374ea88c921764c28c6f2e",
            "01add86481b748bd9f7d66e95906ca0a",
            "947323d4cd6b40ce9212baa921d8e29e",
            "bab9dc3701b441c495a3d032cd4e0047"
          ]
        }
      },
      "cell_type": "code",
      "source": [
        "generate_report(df, 'report-raw')"
      ],
      "outputs": [
        {
          "data": {
            "text/plain": [
              "Summarize dataset:   0%|          | 0/5 [00:00<?, ?it/s]"
            ],
            "application/vnd.jupyter.widget-view+json": {
              "version_major": 2,
              "version_minor": 0,
              "model_id": "38f10233ff374ea88c921764c28c6f2e"
            }
          },
          "metadata": {},
          "output_type": "display_data"
        },
        {
          "name": "stderr",
          "output_type": "stream",
          "text": [
            "\n",
            "  0%|          | 0/50 [00:00<?, ?it/s]\u001b[A\n",
            "  2%|▏         | 1/50 [00:00<00:10,  4.58it/s]\u001b[A\n",
            "  8%|▊         | 4/50 [00:02<00:26,  1.72it/s]\u001b[A\n",
            " 10%|█         | 5/50 [00:02<00:27,  1.65it/s]\u001b[A\n",
            " 38%|███▊      | 19/50 [00:04<00:04,  6.69it/s]\u001b[A\n",
            " 40%|████      | 20/50 [00:04<00:04,  6.22it/s]\u001b[A\n",
            "100%|██████████| 50/50 [00:05<00:00,  8.40it/s]\u001b[A\n"
          ]
        },
        {
          "data": {
            "text/plain": [
              "Generate report structure:   0%|          | 0/1 [00:00<?, ?it/s]"
            ],
            "application/vnd.jupyter.widget-view+json": {
              "version_major": 2,
              "version_minor": 0,
              "model_id": "01add86481b748bd9f7d66e95906ca0a"
            }
          },
          "metadata": {},
          "output_type": "display_data"
        },
        {
          "data": {
            "text/plain": [
              "Render HTML:   0%|          | 0/1 [00:00<?, ?it/s]"
            ],
            "application/vnd.jupyter.widget-view+json": {
              "version_major": 2,
              "version_minor": 0,
              "model_id": "947323d4cd6b40ce9212baa921d8e29e"
            }
          },
          "metadata": {},
          "output_type": "display_data"
        },
        {
          "data": {
            "text/plain": [
              "Export report to file:   0%|          | 0/1 [00:00<?, ?it/s]"
            ],
            "application/vnd.jupyter.widget-view+json": {
              "version_major": 2,
              "version_minor": 0,
              "model_id": "bab9dc3701b441c495a3d032cd4e0047"
            }
          },
          "metadata": {},
          "output_type": "display_data"
        }
      ],
      "execution_count": null
    },
    {
      "metadata": {
        "id": "x8MIjdOgKDcL"
      },
      "cell_type": "markdown",
      "source": [
        "### Data Cleaning\n",
        "\n",
        "1. Force Missing Values to NaN to correctly identify missing values because of different data types. (Int, Float, and Object)\n",
        "2. Delete duplicated rows (keep the first instance)\n",
        "\n",
        "There are missing data that are represented as different invisible characters - replace them with an empty string"
      ]
    },
    {
      "metadata": {
        "ExecuteTime": {
          "end_time": "2025-03-27T19:45:53.414911Z",
          "start_time": "2025-03-27T19:45:53.165786Z"
        },
        "id": "AaRtR-5DKDcL",
        "outputId": "cc1f5589-405c-4614-eebc-107fbeb55638"
      },
      "cell_type": "code",
      "source": [
        "df.isna().sum()"
      ],
      "outputs": [
        {
          "data": {
            "text/plain": [
              "PUFREG             0\n",
              "PUFPRV             0\n",
              "PUFPRRCD           0\n",
              "PUFHHNUM           0\n",
              "PUFURB2K10         0\n",
              "PUFPWGTFIN         0\n",
              "PUFSVYMO           0\n",
              "PUFSVYYR           0\n",
              "PUFPSU             0\n",
              "PUFRPL             0\n",
              "PUFHHSIZE          0\n",
              "PUFC01_LNO         0\n",
              "PUFC03_REL         0\n",
              "PUFC04_SEX         0\n",
              "PUFC05_AGE         0\n",
              "PUFC06_MSTAT       0\n",
              "PUFC07_GRADE       0\n",
              "PUFC08_CURSCH      0\n",
              "PUFC09_GRADTECH    0\n",
              "PUFC10_CONWR       0\n",
              "PUFC11_WORK        0\n",
              "PUFC12_JOB         0\n",
              "PUFC14_PROCC       0\n",
              "PUFC16_PKB         0\n",
              "PUFC17_NATEM       0\n",
              "PUFC18_PNWHRS      0\n",
              "PUFC19_PHOURS      0\n",
              "PUFC20_PWMORE      0\n",
              "PUFC21_PLADDW      0\n",
              "PUFC22_PFWRK       0\n",
              "PUFC23_PCLASS      0\n",
              "PUFC24_PBASIS      0\n",
              "PUFC25_PBASIC      0\n",
              "PUFC26_OJOB        0\n",
              "PUFC27_NJOBS       0\n",
              "PUFC28_THOURS      0\n",
              "PUFC29_WWM48H      0\n",
              "PUFC30_LOOKW       0\n",
              "PUFC31_FLWRK       0\n",
              "PUFC32_JOBSM       0\n",
              "PUFC33_WEEKS       0\n",
              "PUFC34_WYNOT       0\n",
              "PUFC35_LTLOOKW     0\n",
              "PUFC36_AVAIL       0\n",
              "PUFC37_WILLING     0\n",
              "PUFC38_PREVJOB     0\n",
              "PUFC40_POCC        0\n",
              "PUFC41_WQTR        0\n",
              "PUFC43_QKB         0\n",
              "PUFNEWEMPSTAT      0\n",
              "dtype: int64"
            ]
          },
          "execution_count": 50,
          "metadata": {},
          "output_type": "execute_result"
        }
      ],
      "execution_count": null
    },
    {
      "metadata": {
        "ExecuteTime": {
          "end_time": "2025-03-27T19:45:53.779165Z",
          "start_time": "2025-03-27T19:45:53.457036Z"
        },
        "id": "T-Nb-RiSKDcL"
      },
      "cell_type": "code",
      "source": [
        "# df.replace([\"\", \" \", \"NA\", \"N/A\", \"-\", \"NULL\"], np.nan, inplace=True)\n",
        "df.replace(\"\", np.nan, inplace=True)"
      ],
      "outputs": [],
      "execution_count": null
    },
    {
      "metadata": {
        "ExecuteTime": {
          "end_time": "2025-03-27T19:45:55.744689Z",
          "start_time": "2025-03-27T19:45:53.802662Z"
        },
        "id": "jwSXDHOIKDcL"
      },
      "cell_type": "code",
      "source": [
        "df = df.map(lambda x: np.nan if isinstance(x, str) and x.strip() == \"\" else x)"
      ],
      "outputs": [],
      "execution_count": null
    },
    {
      "metadata": {
        "id": "-M-VKlsCKDcM"
      },
      "cell_type": "markdown",
      "source": [
        "### Sanity Checking\n",
        "Check if missing data is properly replaced with NaN"
      ]
    },
    {
      "metadata": {
        "ExecuteTime": {
          "end_time": "2025-03-27T19:45:55.956512Z",
          "start_time": "2025-03-27T19:45:55.749230Z"
        },
        "id": "lwKxw2NpKDcM",
        "outputId": "81041a10-662b-4d10-cec0-4e38a65d8562"
      },
      "cell_type": "code",
      "source": [
        "df"
      ],
      "outputs": [
        {
          "data": {
            "text/plain": [
              "        PUFREG  PUFPRV  PUFPRRCD  PUFHHNUM  PUFURB2K10  PUFPWGTFIN  PUFSVYMO  \\\n",
              "0            1      28      2800         1           2    405.2219         4   \n",
              "1            1      28      2800         1           2    388.8280         4   \n",
              "2            1      28      2800         1           2    406.1194         4   \n",
              "3            1      28      2800         2           2    405.2219         4   \n",
              "4            1      28      2800         2           2    384.3556         4   \n",
              "...        ...     ...       ...       ...         ...         ...       ...   \n",
              "180857      17      59      5900     40880           2    239.4341         4   \n",
              "180858      17      59      5900     40880           2    189.8885         4   \n",
              "180859      17      59      5900     40880           2    207.7395         4   \n",
              "180860      17      59      5900     40880           2    207.7395         4   \n",
              "180861      17      59      5900     40880           2    277.5219         4   \n",
              "\n",
              "        PUFSVYYR  PUFPSU  PUFRPL  ...  PUFC33_WEEKS  PUFC34_WYNOT  \\\n",
              "0           2016     217       1  ...           NaN           NaN   \n",
              "1           2016     217       1  ...           NaN           NaN   \n",
              "2           2016     217       1  ...           NaN           NaN   \n",
              "3           2016     217       1  ...           NaN           NaN   \n",
              "4           2016     217       1  ...           NaN           NaN   \n",
              "...          ...     ...     ...  ...           ...           ...   \n",
              "180857      2016     258       1  ...           NaN           NaN   \n",
              "180858      2016     258       1  ...           NaN             8   \n",
              "180859      2016     258       1  ...           NaN           NaN   \n",
              "180860      2016     258       1  ...           NaN           NaN   \n",
              "180861      2016     258       1  ...           NaN           NaN   \n",
              "\n",
              "        PUFC35_LTLOOKW  PUFC36_AVAIL  PUFC37_WILLING PUFC38_PREVJOB  \\\n",
              "0                  NaN           NaN             NaN            NaN   \n",
              "1                  NaN           NaN             NaN            NaN   \n",
              "2                  NaN           NaN             NaN            NaN   \n",
              "3                  NaN           NaN             NaN            NaN   \n",
              "4                  NaN           NaN             NaN            NaN   \n",
              "...                ...           ...             ...            ...   \n",
              "180857             NaN           NaN             NaN            NaN   \n",
              "180858             NaN           NaN             NaN              2   \n",
              "180859             NaN           NaN             NaN            NaN   \n",
              "180860             NaN           NaN             NaN            NaN   \n",
              "180861             NaN           NaN             NaN            NaN   \n",
              "\n",
              "       PUFC40_POCC PUFC41_WQTR PUFC43_QKB PUFNEWEMPSTAT  \n",
              "0              NaN           1         01             1  \n",
              "1              NaN           1         01             1  \n",
              "2              NaN           1         01             1  \n",
              "3              NaN           1         01             1  \n",
              "4              NaN           1         96             1  \n",
              "...            ...         ...        ...           ...  \n",
              "180857         NaN           1         50             1  \n",
              "180858         NaN         NaN        NaN             3  \n",
              "180859         NaN         NaN        NaN           NaN  \n",
              "180860         NaN         NaN        NaN           NaN  \n",
              "180861         NaN           1         01             1  \n",
              "\n",
              "[180862 rows x 50 columns]"
            ],
            "text/html": [
              "<div>\n",
              "<style scoped>\n",
              "    .dataframe tbody tr th:only-of-type {\n",
              "        vertical-align: middle;\n",
              "    }\n",
              "\n",
              "    .dataframe tbody tr th {\n",
              "        vertical-align: top;\n",
              "    }\n",
              "\n",
              "    .dataframe thead th {\n",
              "        text-align: right;\n",
              "    }\n",
              "</style>\n",
              "<table border=\"1\" class=\"dataframe\">\n",
              "  <thead>\n",
              "    <tr style=\"text-align: right;\">\n",
              "      <th></th>\n",
              "      <th>PUFREG</th>\n",
              "      <th>PUFPRV</th>\n",
              "      <th>PUFPRRCD</th>\n",
              "      <th>PUFHHNUM</th>\n",
              "      <th>PUFURB2K10</th>\n",
              "      <th>PUFPWGTFIN</th>\n",
              "      <th>PUFSVYMO</th>\n",
              "      <th>PUFSVYYR</th>\n",
              "      <th>PUFPSU</th>\n",
              "      <th>PUFRPL</th>\n",
              "      <th>...</th>\n",
              "      <th>PUFC33_WEEKS</th>\n",
              "      <th>PUFC34_WYNOT</th>\n",
              "      <th>PUFC35_LTLOOKW</th>\n",
              "      <th>PUFC36_AVAIL</th>\n",
              "      <th>PUFC37_WILLING</th>\n",
              "      <th>PUFC38_PREVJOB</th>\n",
              "      <th>PUFC40_POCC</th>\n",
              "      <th>PUFC41_WQTR</th>\n",
              "      <th>PUFC43_QKB</th>\n",
              "      <th>PUFNEWEMPSTAT</th>\n",
              "    </tr>\n",
              "  </thead>\n",
              "  <tbody>\n",
              "    <tr>\n",
              "      <th>0</th>\n",
              "      <td>1</td>\n",
              "      <td>28</td>\n",
              "      <td>2800</td>\n",
              "      <td>1</td>\n",
              "      <td>2</td>\n",
              "      <td>405.2219</td>\n",
              "      <td>4</td>\n",
              "      <td>2016</td>\n",
              "      <td>217</td>\n",
              "      <td>1</td>\n",
              "      <td>...</td>\n",
              "      <td>NaN</td>\n",
              "      <td>NaN</td>\n",
              "      <td>NaN</td>\n",
              "      <td>NaN</td>\n",
              "      <td>NaN</td>\n",
              "      <td>NaN</td>\n",
              "      <td>NaN</td>\n",
              "      <td>1</td>\n",
              "      <td>01</td>\n",
              "      <td>1</td>\n",
              "    </tr>\n",
              "    <tr>\n",
              "      <th>1</th>\n",
              "      <td>1</td>\n",
              "      <td>28</td>\n",
              "      <td>2800</td>\n",
              "      <td>1</td>\n",
              "      <td>2</td>\n",
              "      <td>388.8280</td>\n",
              "      <td>4</td>\n",
              "      <td>2016</td>\n",
              "      <td>217</td>\n",
              "      <td>1</td>\n",
              "      <td>...</td>\n",
              "      <td>NaN</td>\n",
              "      <td>NaN</td>\n",
              "      <td>NaN</td>\n",
              "      <td>NaN</td>\n",
              "      <td>NaN</td>\n",
              "      <td>NaN</td>\n",
              "      <td>NaN</td>\n",
              "      <td>1</td>\n",
              "      <td>01</td>\n",
              "      <td>1</td>\n",
              "    </tr>\n",
              "    <tr>\n",
              "      <th>2</th>\n",
              "      <td>1</td>\n",
              "      <td>28</td>\n",
              "      <td>2800</td>\n",
              "      <td>1</td>\n",
              "      <td>2</td>\n",
              "      <td>406.1194</td>\n",
              "      <td>4</td>\n",
              "      <td>2016</td>\n",
              "      <td>217</td>\n",
              "      <td>1</td>\n",
              "      <td>...</td>\n",
              "      <td>NaN</td>\n",
              "      <td>NaN</td>\n",
              "      <td>NaN</td>\n",
              "      <td>NaN</td>\n",
              "      <td>NaN</td>\n",
              "      <td>NaN</td>\n",
              "      <td>NaN</td>\n",
              "      <td>1</td>\n",
              "      <td>01</td>\n",
              "      <td>1</td>\n",
              "    </tr>\n",
              "    <tr>\n",
              "      <th>3</th>\n",
              "      <td>1</td>\n",
              "      <td>28</td>\n",
              "      <td>2800</td>\n",
              "      <td>2</td>\n",
              "      <td>2</td>\n",
              "      <td>405.2219</td>\n",
              "      <td>4</td>\n",
              "      <td>2016</td>\n",
              "      <td>217</td>\n",
              "      <td>1</td>\n",
              "      <td>...</td>\n",
              "      <td>NaN</td>\n",
              "      <td>NaN</td>\n",
              "      <td>NaN</td>\n",
              "      <td>NaN</td>\n",
              "      <td>NaN</td>\n",
              "      <td>NaN</td>\n",
              "      <td>NaN</td>\n",
              "      <td>1</td>\n",
              "      <td>01</td>\n",
              "      <td>1</td>\n",
              "    </tr>\n",
              "    <tr>\n",
              "      <th>4</th>\n",
              "      <td>1</td>\n",
              "      <td>28</td>\n",
              "      <td>2800</td>\n",
              "      <td>2</td>\n",
              "      <td>2</td>\n",
              "      <td>384.3556</td>\n",
              "      <td>4</td>\n",
              "      <td>2016</td>\n",
              "      <td>217</td>\n",
              "      <td>1</td>\n",
              "      <td>...</td>\n",
              "      <td>NaN</td>\n",
              "      <td>NaN</td>\n",
              "      <td>NaN</td>\n",
              "      <td>NaN</td>\n",
              "      <td>NaN</td>\n",
              "      <td>NaN</td>\n",
              "      <td>NaN</td>\n",
              "      <td>1</td>\n",
              "      <td>96</td>\n",
              "      <td>1</td>\n",
              "    </tr>\n",
              "    <tr>\n",
              "      <th>...</th>\n",
              "      <td>...</td>\n",
              "      <td>...</td>\n",
              "      <td>...</td>\n",
              "      <td>...</td>\n",
              "      <td>...</td>\n",
              "      <td>...</td>\n",
              "      <td>...</td>\n",
              "      <td>...</td>\n",
              "      <td>...</td>\n",
              "      <td>...</td>\n",
              "      <td>...</td>\n",
              "      <td>...</td>\n",
              "      <td>...</td>\n",
              "      <td>...</td>\n",
              "      <td>...</td>\n",
              "      <td>...</td>\n",
              "      <td>...</td>\n",
              "      <td>...</td>\n",
              "      <td>...</td>\n",
              "      <td>...</td>\n",
              "      <td>...</td>\n",
              "    </tr>\n",
              "    <tr>\n",
              "      <th>180857</th>\n",
              "      <td>17</td>\n",
              "      <td>59</td>\n",
              "      <td>5900</td>\n",
              "      <td>40880</td>\n",
              "      <td>2</td>\n",
              "      <td>239.4341</td>\n",
              "      <td>4</td>\n",
              "      <td>2016</td>\n",
              "      <td>258</td>\n",
              "      <td>1</td>\n",
              "      <td>...</td>\n",
              "      <td>NaN</td>\n",
              "      <td>NaN</td>\n",
              "      <td>NaN</td>\n",
              "      <td>NaN</td>\n",
              "      <td>NaN</td>\n",
              "      <td>NaN</td>\n",
              "      <td>NaN</td>\n",
              "      <td>1</td>\n",
              "      <td>50</td>\n",
              "      <td>1</td>\n",
              "    </tr>\n",
              "    <tr>\n",
              "      <th>180858</th>\n",
              "      <td>17</td>\n",
              "      <td>59</td>\n",
              "      <td>5900</td>\n",
              "      <td>40880</td>\n",
              "      <td>2</td>\n",
              "      <td>189.8885</td>\n",
              "      <td>4</td>\n",
              "      <td>2016</td>\n",
              "      <td>258</td>\n",
              "      <td>1</td>\n",
              "      <td>...</td>\n",
              "      <td>NaN</td>\n",
              "      <td>8</td>\n",
              "      <td>NaN</td>\n",
              "      <td>NaN</td>\n",
              "      <td>NaN</td>\n",
              "      <td>2</td>\n",
              "      <td>NaN</td>\n",
              "      <td>NaN</td>\n",
              "      <td>NaN</td>\n",
              "      <td>3</td>\n",
              "    </tr>\n",
              "    <tr>\n",
              "      <th>180859</th>\n",
              "      <td>17</td>\n",
              "      <td>59</td>\n",
              "      <td>5900</td>\n",
              "      <td>40880</td>\n",
              "      <td>2</td>\n",
              "      <td>207.7395</td>\n",
              "      <td>4</td>\n",
              "      <td>2016</td>\n",
              "      <td>258</td>\n",
              "      <td>1</td>\n",
              "      <td>...</td>\n",
              "      <td>NaN</td>\n",
              "      <td>NaN</td>\n",
              "      <td>NaN</td>\n",
              "      <td>NaN</td>\n",
              "      <td>NaN</td>\n",
              "      <td>NaN</td>\n",
              "      <td>NaN</td>\n",
              "      <td>NaN</td>\n",
              "      <td>NaN</td>\n",
              "      <td>NaN</td>\n",
              "    </tr>\n",
              "    <tr>\n",
              "      <th>180860</th>\n",
              "      <td>17</td>\n",
              "      <td>59</td>\n",
              "      <td>5900</td>\n",
              "      <td>40880</td>\n",
              "      <td>2</td>\n",
              "      <td>207.7395</td>\n",
              "      <td>4</td>\n",
              "      <td>2016</td>\n",
              "      <td>258</td>\n",
              "      <td>1</td>\n",
              "      <td>...</td>\n",
              "      <td>NaN</td>\n",
              "      <td>NaN</td>\n",
              "      <td>NaN</td>\n",
              "      <td>NaN</td>\n",
              "      <td>NaN</td>\n",
              "      <td>NaN</td>\n",
              "      <td>NaN</td>\n",
              "      <td>NaN</td>\n",
              "      <td>NaN</td>\n",
              "      <td>NaN</td>\n",
              "    </tr>\n",
              "    <tr>\n",
              "      <th>180861</th>\n",
              "      <td>17</td>\n",
              "      <td>59</td>\n",
              "      <td>5900</td>\n",
              "      <td>40880</td>\n",
              "      <td>2</td>\n",
              "      <td>277.5219</td>\n",
              "      <td>4</td>\n",
              "      <td>2016</td>\n",
              "      <td>258</td>\n",
              "      <td>1</td>\n",
              "      <td>...</td>\n",
              "      <td>NaN</td>\n",
              "      <td>NaN</td>\n",
              "      <td>NaN</td>\n",
              "      <td>NaN</td>\n",
              "      <td>NaN</td>\n",
              "      <td>NaN</td>\n",
              "      <td>NaN</td>\n",
              "      <td>1</td>\n",
              "      <td>01</td>\n",
              "      <td>1</td>\n",
              "    </tr>\n",
              "  </tbody>\n",
              "</table>\n",
              "<p>180862 rows × 50 columns</p>\n",
              "</div>"
            ]
          },
          "execution_count": 53,
          "metadata": {},
          "output_type": "execute_result"
        }
      ],
      "execution_count": null
    },
    {
      "metadata": {
        "id": "xgihZyiQKDcM"
      },
      "cell_type": "markdown",
      "source": [
        "### Impute missing values\n",
        "\n",
        "- Fill numerical columns with their *mean*.\n",
        "- Fill categorical values with their *mode*."
      ]
    },
    {
      "metadata": {
        "ExecuteTime": {
          "end_time": "2025-03-27T19:45:56.847239Z",
          "start_time": "2025-03-27T19:45:56.007896Z"
        },
        "id": "K5Aosx_MKDcM",
        "outputId": "60058dfa-bbf7-4f60-9b20-5a92121ec073"
      },
      "cell_type": "code",
      "source": [
        "# Replace numeric values with mean\n",
        "df.fillna(df.select_dtypes(include=[\"number\"]).mean(numeric_only=True), inplace=True)\n",
        "\n",
        "# Replace categorical values with mode\n",
        "for col in df.select_dtypes(include=[\"object\"]):\n",
        "    mode_value = df[col].mode()[0] if not df[col].mode().empty else \"unknown\"\n",
        "    df[col] = df[col].fillna(mode_value)\n",
        "\n",
        "df"
      ],
      "outputs": [
        {
          "data": {
            "text/plain": [
              "        PUFREG  PUFPRV  PUFPRRCD  PUFHHNUM  PUFURB2K10  PUFPWGTFIN  PUFSVYMO  \\\n",
              "0            1      28      2800         1           2    405.2219         4   \n",
              "1            1      28      2800         1           2    388.8280         4   \n",
              "2            1      28      2800         1           2    406.1194         4   \n",
              "3            1      28      2800         2           2    405.2219         4   \n",
              "4            1      28      2800         2           2    384.3556         4   \n",
              "...        ...     ...       ...       ...         ...         ...       ...   \n",
              "180857      17      59      5900     40880           2    239.4341         4   \n",
              "180858      17      59      5900     40880           2    189.8885         4   \n",
              "180859      17      59      5900     40880           2    207.7395         4   \n",
              "180860      17      59      5900     40880           2    207.7395         4   \n",
              "180861      17      59      5900     40880           2    277.5219         4   \n",
              "\n",
              "        PUFSVYYR  PUFPSU  PUFRPL  ...  PUFC33_WEEKS  PUFC34_WYNOT  \\\n",
              "0           2016     217       1  ...           002             7   \n",
              "1           2016     217       1  ...           002             7   \n",
              "2           2016     217       1  ...           002             7   \n",
              "3           2016     217       1  ...           002             7   \n",
              "4           2016     217       1  ...           002             7   \n",
              "...          ...     ...     ...  ...           ...           ...   \n",
              "180857      2016     258       1  ...           002             7   \n",
              "180858      2016     258       1  ...           002             8   \n",
              "180859      2016     258       1  ...           002             7   \n",
              "180860      2016     258       1  ...           002             7   \n",
              "180861      2016     258       1  ...           002             7   \n",
              "\n",
              "        PUFC35_LTLOOKW  PUFC36_AVAIL  PUFC37_WILLING PUFC38_PREVJOB  \\\n",
              "0                    1             1               1              1   \n",
              "1                    1             1               1              1   \n",
              "2                    1             1               1              1   \n",
              "3                    1             1               1              1   \n",
              "4                    1             1               1              1   \n",
              "...                ...           ...             ...            ...   \n",
              "180857               1             1               1              1   \n",
              "180858               1             1               1              2   \n",
              "180859               1             1               1              1   \n",
              "180860               1             1               1              1   \n",
              "180861               1             1               1              1   \n",
              "\n",
              "       PUFC40_POCC PUFC41_WQTR PUFC43_QKB PUFNEWEMPSTAT  \n",
              "0               52           1         01             1  \n",
              "1               52           1         01             1  \n",
              "2               52           1         01             1  \n",
              "3               52           1         01             1  \n",
              "4               52           1         96             1  \n",
              "...            ...         ...        ...           ...  \n",
              "180857          52           1         50             1  \n",
              "180858          52           1         01             3  \n",
              "180859          52           1         01             1  \n",
              "180860          52           1         01             1  \n",
              "180861          52           1         01             1  \n",
              "\n",
              "[180862 rows x 50 columns]"
            ],
            "text/html": [
              "<div>\n",
              "<style scoped>\n",
              "    .dataframe tbody tr th:only-of-type {\n",
              "        vertical-align: middle;\n",
              "    }\n",
              "\n",
              "    .dataframe tbody tr th {\n",
              "        vertical-align: top;\n",
              "    }\n",
              "\n",
              "    .dataframe thead th {\n",
              "        text-align: right;\n",
              "    }\n",
              "</style>\n",
              "<table border=\"1\" class=\"dataframe\">\n",
              "  <thead>\n",
              "    <tr style=\"text-align: right;\">\n",
              "      <th></th>\n",
              "      <th>PUFREG</th>\n",
              "      <th>PUFPRV</th>\n",
              "      <th>PUFPRRCD</th>\n",
              "      <th>PUFHHNUM</th>\n",
              "      <th>PUFURB2K10</th>\n",
              "      <th>PUFPWGTFIN</th>\n",
              "      <th>PUFSVYMO</th>\n",
              "      <th>PUFSVYYR</th>\n",
              "      <th>PUFPSU</th>\n",
              "      <th>PUFRPL</th>\n",
              "      <th>...</th>\n",
              "      <th>PUFC33_WEEKS</th>\n",
              "      <th>PUFC34_WYNOT</th>\n",
              "      <th>PUFC35_LTLOOKW</th>\n",
              "      <th>PUFC36_AVAIL</th>\n",
              "      <th>PUFC37_WILLING</th>\n",
              "      <th>PUFC38_PREVJOB</th>\n",
              "      <th>PUFC40_POCC</th>\n",
              "      <th>PUFC41_WQTR</th>\n",
              "      <th>PUFC43_QKB</th>\n",
              "      <th>PUFNEWEMPSTAT</th>\n",
              "    </tr>\n",
              "  </thead>\n",
              "  <tbody>\n",
              "    <tr>\n",
              "      <th>0</th>\n",
              "      <td>1</td>\n",
              "      <td>28</td>\n",
              "      <td>2800</td>\n",
              "      <td>1</td>\n",
              "      <td>2</td>\n",
              "      <td>405.2219</td>\n",
              "      <td>4</td>\n",
              "      <td>2016</td>\n",
              "      <td>217</td>\n",
              "      <td>1</td>\n",
              "      <td>...</td>\n",
              "      <td>002</td>\n",
              "      <td>7</td>\n",
              "      <td>1</td>\n",
              "      <td>1</td>\n",
              "      <td>1</td>\n",
              "      <td>1</td>\n",
              "      <td>52</td>\n",
              "      <td>1</td>\n",
              "      <td>01</td>\n",
              "      <td>1</td>\n",
              "    </tr>\n",
              "    <tr>\n",
              "      <th>1</th>\n",
              "      <td>1</td>\n",
              "      <td>28</td>\n",
              "      <td>2800</td>\n",
              "      <td>1</td>\n",
              "      <td>2</td>\n",
              "      <td>388.8280</td>\n",
              "      <td>4</td>\n",
              "      <td>2016</td>\n",
              "      <td>217</td>\n",
              "      <td>1</td>\n",
              "      <td>...</td>\n",
              "      <td>002</td>\n",
              "      <td>7</td>\n",
              "      <td>1</td>\n",
              "      <td>1</td>\n",
              "      <td>1</td>\n",
              "      <td>1</td>\n",
              "      <td>52</td>\n",
              "      <td>1</td>\n",
              "      <td>01</td>\n",
              "      <td>1</td>\n",
              "    </tr>\n",
              "    <tr>\n",
              "      <th>2</th>\n",
              "      <td>1</td>\n",
              "      <td>28</td>\n",
              "      <td>2800</td>\n",
              "      <td>1</td>\n",
              "      <td>2</td>\n",
              "      <td>406.1194</td>\n",
              "      <td>4</td>\n",
              "      <td>2016</td>\n",
              "      <td>217</td>\n",
              "      <td>1</td>\n",
              "      <td>...</td>\n",
              "      <td>002</td>\n",
              "      <td>7</td>\n",
              "      <td>1</td>\n",
              "      <td>1</td>\n",
              "      <td>1</td>\n",
              "      <td>1</td>\n",
              "      <td>52</td>\n",
              "      <td>1</td>\n",
              "      <td>01</td>\n",
              "      <td>1</td>\n",
              "    </tr>\n",
              "    <tr>\n",
              "      <th>3</th>\n",
              "      <td>1</td>\n",
              "      <td>28</td>\n",
              "      <td>2800</td>\n",
              "      <td>2</td>\n",
              "      <td>2</td>\n",
              "      <td>405.2219</td>\n",
              "      <td>4</td>\n",
              "      <td>2016</td>\n",
              "      <td>217</td>\n",
              "      <td>1</td>\n",
              "      <td>...</td>\n",
              "      <td>002</td>\n",
              "      <td>7</td>\n",
              "      <td>1</td>\n",
              "      <td>1</td>\n",
              "      <td>1</td>\n",
              "      <td>1</td>\n",
              "      <td>52</td>\n",
              "      <td>1</td>\n",
              "      <td>01</td>\n",
              "      <td>1</td>\n",
              "    </tr>\n",
              "    <tr>\n",
              "      <th>4</th>\n",
              "      <td>1</td>\n",
              "      <td>28</td>\n",
              "      <td>2800</td>\n",
              "      <td>2</td>\n",
              "      <td>2</td>\n",
              "      <td>384.3556</td>\n",
              "      <td>4</td>\n",
              "      <td>2016</td>\n",
              "      <td>217</td>\n",
              "      <td>1</td>\n",
              "      <td>...</td>\n",
              "      <td>002</td>\n",
              "      <td>7</td>\n",
              "      <td>1</td>\n",
              "      <td>1</td>\n",
              "      <td>1</td>\n",
              "      <td>1</td>\n",
              "      <td>52</td>\n",
              "      <td>1</td>\n",
              "      <td>96</td>\n",
              "      <td>1</td>\n",
              "    </tr>\n",
              "    <tr>\n",
              "      <th>...</th>\n",
              "      <td>...</td>\n",
              "      <td>...</td>\n",
              "      <td>...</td>\n",
              "      <td>...</td>\n",
              "      <td>...</td>\n",
              "      <td>...</td>\n",
              "      <td>...</td>\n",
              "      <td>...</td>\n",
              "      <td>...</td>\n",
              "      <td>...</td>\n",
              "      <td>...</td>\n",
              "      <td>...</td>\n",
              "      <td>...</td>\n",
              "      <td>...</td>\n",
              "      <td>...</td>\n",
              "      <td>...</td>\n",
              "      <td>...</td>\n",
              "      <td>...</td>\n",
              "      <td>...</td>\n",
              "      <td>...</td>\n",
              "      <td>...</td>\n",
              "    </tr>\n",
              "    <tr>\n",
              "      <th>180857</th>\n",
              "      <td>17</td>\n",
              "      <td>59</td>\n",
              "      <td>5900</td>\n",
              "      <td>40880</td>\n",
              "      <td>2</td>\n",
              "      <td>239.4341</td>\n",
              "      <td>4</td>\n",
              "      <td>2016</td>\n",
              "      <td>258</td>\n",
              "      <td>1</td>\n",
              "      <td>...</td>\n",
              "      <td>002</td>\n",
              "      <td>7</td>\n",
              "      <td>1</td>\n",
              "      <td>1</td>\n",
              "      <td>1</td>\n",
              "      <td>1</td>\n",
              "      <td>52</td>\n",
              "      <td>1</td>\n",
              "      <td>50</td>\n",
              "      <td>1</td>\n",
              "    </tr>\n",
              "    <tr>\n",
              "      <th>180858</th>\n",
              "      <td>17</td>\n",
              "      <td>59</td>\n",
              "      <td>5900</td>\n",
              "      <td>40880</td>\n",
              "      <td>2</td>\n",
              "      <td>189.8885</td>\n",
              "      <td>4</td>\n",
              "      <td>2016</td>\n",
              "      <td>258</td>\n",
              "      <td>1</td>\n",
              "      <td>...</td>\n",
              "      <td>002</td>\n",
              "      <td>8</td>\n",
              "      <td>1</td>\n",
              "      <td>1</td>\n",
              "      <td>1</td>\n",
              "      <td>2</td>\n",
              "      <td>52</td>\n",
              "      <td>1</td>\n",
              "      <td>01</td>\n",
              "      <td>3</td>\n",
              "    </tr>\n",
              "    <tr>\n",
              "      <th>180859</th>\n",
              "      <td>17</td>\n",
              "      <td>59</td>\n",
              "      <td>5900</td>\n",
              "      <td>40880</td>\n",
              "      <td>2</td>\n",
              "      <td>207.7395</td>\n",
              "      <td>4</td>\n",
              "      <td>2016</td>\n",
              "      <td>258</td>\n",
              "      <td>1</td>\n",
              "      <td>...</td>\n",
              "      <td>002</td>\n",
              "      <td>7</td>\n",
              "      <td>1</td>\n",
              "      <td>1</td>\n",
              "      <td>1</td>\n",
              "      <td>1</td>\n",
              "      <td>52</td>\n",
              "      <td>1</td>\n",
              "      <td>01</td>\n",
              "      <td>1</td>\n",
              "    </tr>\n",
              "    <tr>\n",
              "      <th>180860</th>\n",
              "      <td>17</td>\n",
              "      <td>59</td>\n",
              "      <td>5900</td>\n",
              "      <td>40880</td>\n",
              "      <td>2</td>\n",
              "      <td>207.7395</td>\n",
              "      <td>4</td>\n",
              "      <td>2016</td>\n",
              "      <td>258</td>\n",
              "      <td>1</td>\n",
              "      <td>...</td>\n",
              "      <td>002</td>\n",
              "      <td>7</td>\n",
              "      <td>1</td>\n",
              "      <td>1</td>\n",
              "      <td>1</td>\n",
              "      <td>1</td>\n",
              "      <td>52</td>\n",
              "      <td>1</td>\n",
              "      <td>01</td>\n",
              "      <td>1</td>\n",
              "    </tr>\n",
              "    <tr>\n",
              "      <th>180861</th>\n",
              "      <td>17</td>\n",
              "      <td>59</td>\n",
              "      <td>5900</td>\n",
              "      <td>40880</td>\n",
              "      <td>2</td>\n",
              "      <td>277.5219</td>\n",
              "      <td>4</td>\n",
              "      <td>2016</td>\n",
              "      <td>258</td>\n",
              "      <td>1</td>\n",
              "      <td>...</td>\n",
              "      <td>002</td>\n",
              "      <td>7</td>\n",
              "      <td>1</td>\n",
              "      <td>1</td>\n",
              "      <td>1</td>\n",
              "      <td>1</td>\n",
              "      <td>52</td>\n",
              "      <td>1</td>\n",
              "      <td>01</td>\n",
              "      <td>1</td>\n",
              "    </tr>\n",
              "  </tbody>\n",
              "</table>\n",
              "<p>180862 rows × 50 columns</p>\n",
              "</div>"
            ]
          },
          "execution_count": 54,
          "metadata": {},
          "output_type": "execute_result"
        }
      ],
      "execution_count": null
    },
    {
      "metadata": {
        "id": "59DMAO5bKDcM"
      },
      "cell_type": "markdown",
      "source": [
        "### Delete Unnecessary Columns\n",
        "\n",
        "- Delete constant values (Month, Year)\n",
        "    - PUFSVYYR\n",
        "    - PUFSVYMO\n",
        "- Delete IDs\n",
        "    - PUFPRRCD (-0.035)\n",
        "    - PUFHHNUM (0.021)\n",
        "    - PUFREG (0.020)\n",
        "- Delete Columns with low correlation to target variable (Within -0.05 to +0.05)\n",
        "    - PUF10_CONWR (0.037)\n",
        "    - PUFC14_PROCC (-0.490)\n",
        "    - PUFC25_PBASIC (0.035)\n",
        "    - PUFC27_NJOBS (0.035)\n",
        "    - PUFC31_FLWRK (0.026)\n",
        "    - PUFC32_JOBSM (0.031)\n",
        "    - PUFC33_WEEKS (-0.014)\n",
        "    - PUFC34_WYNOT (-0.019)\n",
        "    - PUFC35_LTLOOKW (0.026)\n",
        "    - PUFC37_WILLING (0.046)\n",
        "    - PUFPRV (-0.035)\n",
        "    - PUFRPL (0.004)\n",
        "- Delete data not useful for prediction\n",
        "    - PUFC41_WQTR - Work in the previous quarter\n",
        "    - PUFC43_QKB - Kind of business in the previous quarter\n",
        "    - PUFC40_POCC - Previous occupation if unemployed (we need employment class)\n",
        "    - PUFWGTFIN - Weight used for surveying\n",
        "    - PUFPSU - Primary Sampling Unit (PSU) useful for survey design but not for prediction\n",
        "    - PUFC12_JOB - PUFC11_WORK is more useful\n",
        "    - PUFC36_AVAIL - Availability for work (useful for unemployed people)\n",
        "    - PUFC19_PHOURS - Hours worked in the previous week\n",
        "    - PUFC38_PREVJOB - Previous job if employed (we need current job)"
      ]
    },
    {
      "metadata": {
        "ExecuteTime": {
          "end_time": "2025-03-27T19:45:57.007071Z",
          "start_time": "2025-03-27T19:45:56.873695Z"
        },
        "id": "-2j5QF9WKDcM"
      },
      "cell_type": "code",
      "source": [
        "drop_cols = [\n",
        "    # IDs, Constants\n",
        "    \"PUFSVYYR\", \"PUFSVYMO\", \"PUFPRRCD\", \"PUFHHNUM\", \"PUFREG\",\n",
        "    # Low correlation\n",
        "    \"PUFC01_LNO\", \"PUFC10_CONWR\", \"PUFC14_PROCC\", \"PUFC25_PBASIC\", \"PUFC27_NJOBS\", \"PUFC31_FLWRK\", \"PUFC32_JOBSM\", \"PUFC33_WEEKS\", \"PUFC34_WYNOT\", \"PUFC35_LTLOOKW\", \"PUFC37_WILLING\", \"PUFPRV\", \"PUFRPL\",\n",
        "    # Not useful for prediction of type of worker\n",
        "    \"PUFC41_WQTR\", \"PUFC43_QKB\", \"PUFC40_POCC\", \"PUFPWGTFIN\", \"PUFPSU\", \"PUFC12_JOB\", \"PUFC36_AVAIL\", \"PUFC19_PHOURS\", \"PUFC38_PREVJOB\"\n",
        "]\n",
        "df.drop(columns=drop_cols, inplace=True)"
      ],
      "outputs": [],
      "execution_count": null
    },
    {
      "metadata": {
        "ExecuteTime": {
          "end_time": "2025-03-27T19:45:57.613484Z",
          "start_time": "2025-03-27T19:45:57.379112Z"
        },
        "id": "fThi4i7DKDcM",
        "outputId": "a4dcc65d-d840-4bd3-ff52-a835feeb54b7"
      },
      "cell_type": "code",
      "source": [
        "df"
      ],
      "outputs": [
        {
          "data": {
            "text/plain": [
              "        PUFURB2K10  PUFHHSIZE  PUFC03_REL  PUFC04_SEX  PUFC05_AGE  \\\n",
              "0                2          3           1           1          49   \n",
              "1                2          3           2           2          61   \n",
              "2                2          3           3           1          19   \n",
              "3                2          4           1           1          48   \n",
              "4                2          4           2           2          41   \n",
              "...            ...        ...         ...         ...         ...   \n",
              "180857           2          5           1           1          29   \n",
              "180858           2          5           2           2          29   \n",
              "180859           2          5           3           2           4   \n",
              "180860           2          5           3           2           2   \n",
              "180861           2          5           8           1          18   \n",
              "\n",
              "       PUFC06_MSTAT PUFC07_GRADE PUFC08_CURSCH PUFC09_GRADTECH PUFC11_WORK  \\\n",
              "0                 2          350             1               2           1   \n",
              "1                 2          350             1               2           1   \n",
              "2                 1          350             2               2           1   \n",
              "3                 2          320             1               2           1   \n",
              "4                 2          350             1               2           1   \n",
              "...             ...          ...           ...             ...         ...   \n",
              "180857            2          350             1               2           1   \n",
              "180858            2          830             1               2           2   \n",
              "180859            1          350             1               2           2   \n",
              "180860            1          350             1               2           2   \n",
              "180861            1          350             2               2           1   \n",
              "\n",
              "        ... PUFC20_PWMORE PUFC21_PLADDW PUFC22_PFWRK PUFC23_PCLASS  \\\n",
              "0       ...             1             1            2             3   \n",
              "1       ...             2             2            2             6   \n",
              "2       ...             1             1            2             1   \n",
              "3       ...             1             1            2             3   \n",
              "4       ...             2             2            2             0   \n",
              "...     ...           ...           ...          ...           ...   \n",
              "180857  ...             2             2            2             4   \n",
              "180858  ...             2             2            2             1   \n",
              "180859  ...             2             2            2             1   \n",
              "180860  ...             2             2            2             1   \n",
              "180861  ...             2             2            2             3   \n",
              "\n",
              "       PUFC24_PBASIS PUFC26_OJOB PUFC28_THOURS PUFC29_WWM48H PUFC30_LOOKW  \\\n",
              "0                  4           1           032             1            2   \n",
              "1                  4           2           008             1            2   \n",
              "2                  3           1           034             1            2   \n",
              "3                  4           1           033             1            2   \n",
              "4                  4           2           072             2            2   \n",
              "...              ...         ...           ...           ...          ...   \n",
              "180857             4           2           040             1            2   \n",
              "180858             4           2           048             1            2   \n",
              "180859             4           2           048             1            2   \n",
              "180860             4           2           048             1            2   \n",
              "180861             4           2           028             1            2   \n",
              "\n",
              "       PUFNEWEMPSTAT  \n",
              "0                  1  \n",
              "1                  1  \n",
              "2                  1  \n",
              "3                  1  \n",
              "4                  1  \n",
              "...              ...  \n",
              "180857             1  \n",
              "180858             3  \n",
              "180859             1  \n",
              "180860             1  \n",
              "180861             1  \n",
              "\n",
              "[180862 rows x 23 columns]"
            ],
            "text/html": [
              "<div>\n",
              "<style scoped>\n",
              "    .dataframe tbody tr th:only-of-type {\n",
              "        vertical-align: middle;\n",
              "    }\n",
              "\n",
              "    .dataframe tbody tr th {\n",
              "        vertical-align: top;\n",
              "    }\n",
              "\n",
              "    .dataframe thead th {\n",
              "        text-align: right;\n",
              "    }\n",
              "</style>\n",
              "<table border=\"1\" class=\"dataframe\">\n",
              "  <thead>\n",
              "    <tr style=\"text-align: right;\">\n",
              "      <th></th>\n",
              "      <th>PUFURB2K10</th>\n",
              "      <th>PUFHHSIZE</th>\n",
              "      <th>PUFC03_REL</th>\n",
              "      <th>PUFC04_SEX</th>\n",
              "      <th>PUFC05_AGE</th>\n",
              "      <th>PUFC06_MSTAT</th>\n",
              "      <th>PUFC07_GRADE</th>\n",
              "      <th>PUFC08_CURSCH</th>\n",
              "      <th>PUFC09_GRADTECH</th>\n",
              "      <th>PUFC11_WORK</th>\n",
              "      <th>...</th>\n",
              "      <th>PUFC20_PWMORE</th>\n",
              "      <th>PUFC21_PLADDW</th>\n",
              "      <th>PUFC22_PFWRK</th>\n",
              "      <th>PUFC23_PCLASS</th>\n",
              "      <th>PUFC24_PBASIS</th>\n",
              "      <th>PUFC26_OJOB</th>\n",
              "      <th>PUFC28_THOURS</th>\n",
              "      <th>PUFC29_WWM48H</th>\n",
              "      <th>PUFC30_LOOKW</th>\n",
              "      <th>PUFNEWEMPSTAT</th>\n",
              "    </tr>\n",
              "  </thead>\n",
              "  <tbody>\n",
              "    <tr>\n",
              "      <th>0</th>\n",
              "      <td>2</td>\n",
              "      <td>3</td>\n",
              "      <td>1</td>\n",
              "      <td>1</td>\n",
              "      <td>49</td>\n",
              "      <td>2</td>\n",
              "      <td>350</td>\n",
              "      <td>1</td>\n",
              "      <td>2</td>\n",
              "      <td>1</td>\n",
              "      <td>...</td>\n",
              "      <td>1</td>\n",
              "      <td>1</td>\n",
              "      <td>2</td>\n",
              "      <td>3</td>\n",
              "      <td>4</td>\n",
              "      <td>1</td>\n",
              "      <td>032</td>\n",
              "      <td>1</td>\n",
              "      <td>2</td>\n",
              "      <td>1</td>\n",
              "    </tr>\n",
              "    <tr>\n",
              "      <th>1</th>\n",
              "      <td>2</td>\n",
              "      <td>3</td>\n",
              "      <td>2</td>\n",
              "      <td>2</td>\n",
              "      <td>61</td>\n",
              "      <td>2</td>\n",
              "      <td>350</td>\n",
              "      <td>1</td>\n",
              "      <td>2</td>\n",
              "      <td>1</td>\n",
              "      <td>...</td>\n",
              "      <td>2</td>\n",
              "      <td>2</td>\n",
              "      <td>2</td>\n",
              "      <td>6</td>\n",
              "      <td>4</td>\n",
              "      <td>2</td>\n",
              "      <td>008</td>\n",
              "      <td>1</td>\n",
              "      <td>2</td>\n",
              "      <td>1</td>\n",
              "    </tr>\n",
              "    <tr>\n",
              "      <th>2</th>\n",
              "      <td>2</td>\n",
              "      <td>3</td>\n",
              "      <td>3</td>\n",
              "      <td>1</td>\n",
              "      <td>19</td>\n",
              "      <td>1</td>\n",
              "      <td>350</td>\n",
              "      <td>2</td>\n",
              "      <td>2</td>\n",
              "      <td>1</td>\n",
              "      <td>...</td>\n",
              "      <td>1</td>\n",
              "      <td>1</td>\n",
              "      <td>2</td>\n",
              "      <td>1</td>\n",
              "      <td>3</td>\n",
              "      <td>1</td>\n",
              "      <td>034</td>\n",
              "      <td>1</td>\n",
              "      <td>2</td>\n",
              "      <td>1</td>\n",
              "    </tr>\n",
              "    <tr>\n",
              "      <th>3</th>\n",
              "      <td>2</td>\n",
              "      <td>4</td>\n",
              "      <td>1</td>\n",
              "      <td>1</td>\n",
              "      <td>48</td>\n",
              "      <td>2</td>\n",
              "      <td>320</td>\n",
              "      <td>1</td>\n",
              "      <td>2</td>\n",
              "      <td>1</td>\n",
              "      <td>...</td>\n",
              "      <td>1</td>\n",
              "      <td>1</td>\n",
              "      <td>2</td>\n",
              "      <td>3</td>\n",
              "      <td>4</td>\n",
              "      <td>1</td>\n",
              "      <td>033</td>\n",
              "      <td>1</td>\n",
              "      <td>2</td>\n",
              "      <td>1</td>\n",
              "    </tr>\n",
              "    <tr>\n",
              "      <th>4</th>\n",
              "      <td>2</td>\n",
              "      <td>4</td>\n",
              "      <td>2</td>\n",
              "      <td>2</td>\n",
              "      <td>41</td>\n",
              "      <td>2</td>\n",
              "      <td>350</td>\n",
              "      <td>1</td>\n",
              "      <td>2</td>\n",
              "      <td>1</td>\n",
              "      <td>...</td>\n",
              "      <td>2</td>\n",
              "      <td>2</td>\n",
              "      <td>2</td>\n",
              "      <td>0</td>\n",
              "      <td>4</td>\n",
              "      <td>2</td>\n",
              "      <td>072</td>\n",
              "      <td>2</td>\n",
              "      <td>2</td>\n",
              "      <td>1</td>\n",
              "    </tr>\n",
              "    <tr>\n",
              "      <th>...</th>\n",
              "      <td>...</td>\n",
              "      <td>...</td>\n",
              "      <td>...</td>\n",
              "      <td>...</td>\n",
              "      <td>...</td>\n",
              "      <td>...</td>\n",
              "      <td>...</td>\n",
              "      <td>...</td>\n",
              "      <td>...</td>\n",
              "      <td>...</td>\n",
              "      <td>...</td>\n",
              "      <td>...</td>\n",
              "      <td>...</td>\n",
              "      <td>...</td>\n",
              "      <td>...</td>\n",
              "      <td>...</td>\n",
              "      <td>...</td>\n",
              "      <td>...</td>\n",
              "      <td>...</td>\n",
              "      <td>...</td>\n",
              "      <td>...</td>\n",
              "    </tr>\n",
              "    <tr>\n",
              "      <th>180857</th>\n",
              "      <td>2</td>\n",
              "      <td>5</td>\n",
              "      <td>1</td>\n",
              "      <td>1</td>\n",
              "      <td>29</td>\n",
              "      <td>2</td>\n",
              "      <td>350</td>\n",
              "      <td>1</td>\n",
              "      <td>2</td>\n",
              "      <td>1</td>\n",
              "      <td>...</td>\n",
              "      <td>2</td>\n",
              "      <td>2</td>\n",
              "      <td>2</td>\n",
              "      <td>4</td>\n",
              "      <td>4</td>\n",
              "      <td>2</td>\n",
              "      <td>040</td>\n",
              "      <td>1</td>\n",
              "      <td>2</td>\n",
              "      <td>1</td>\n",
              "    </tr>\n",
              "    <tr>\n",
              "      <th>180858</th>\n",
              "      <td>2</td>\n",
              "      <td>5</td>\n",
              "      <td>2</td>\n",
              "      <td>2</td>\n",
              "      <td>29</td>\n",
              "      <td>2</td>\n",
              "      <td>830</td>\n",
              "      <td>1</td>\n",
              "      <td>2</td>\n",
              "      <td>2</td>\n",
              "      <td>...</td>\n",
              "      <td>2</td>\n",
              "      <td>2</td>\n",
              "      <td>2</td>\n",
              "      <td>1</td>\n",
              "      <td>4</td>\n",
              "      <td>2</td>\n",
              "      <td>048</td>\n",
              "      <td>1</td>\n",
              "      <td>2</td>\n",
              "      <td>3</td>\n",
              "    </tr>\n",
              "    <tr>\n",
              "      <th>180859</th>\n",
              "      <td>2</td>\n",
              "      <td>5</td>\n",
              "      <td>3</td>\n",
              "      <td>2</td>\n",
              "      <td>4</td>\n",
              "      <td>1</td>\n",
              "      <td>350</td>\n",
              "      <td>1</td>\n",
              "      <td>2</td>\n",
              "      <td>2</td>\n",
              "      <td>...</td>\n",
              "      <td>2</td>\n",
              "      <td>2</td>\n",
              "      <td>2</td>\n",
              "      <td>1</td>\n",
              "      <td>4</td>\n",
              "      <td>2</td>\n",
              "      <td>048</td>\n",
              "      <td>1</td>\n",
              "      <td>2</td>\n",
              "      <td>1</td>\n",
              "    </tr>\n",
              "    <tr>\n",
              "      <th>180860</th>\n",
              "      <td>2</td>\n",
              "      <td>5</td>\n",
              "      <td>3</td>\n",
              "      <td>2</td>\n",
              "      <td>2</td>\n",
              "      <td>1</td>\n",
              "      <td>350</td>\n",
              "      <td>1</td>\n",
              "      <td>2</td>\n",
              "      <td>2</td>\n",
              "      <td>...</td>\n",
              "      <td>2</td>\n",
              "      <td>2</td>\n",
              "      <td>2</td>\n",
              "      <td>1</td>\n",
              "      <td>4</td>\n",
              "      <td>2</td>\n",
              "      <td>048</td>\n",
              "      <td>1</td>\n",
              "      <td>2</td>\n",
              "      <td>1</td>\n",
              "    </tr>\n",
              "    <tr>\n",
              "      <th>180861</th>\n",
              "      <td>2</td>\n",
              "      <td>5</td>\n",
              "      <td>8</td>\n",
              "      <td>1</td>\n",
              "      <td>18</td>\n",
              "      <td>1</td>\n",
              "      <td>350</td>\n",
              "      <td>2</td>\n",
              "      <td>2</td>\n",
              "      <td>1</td>\n",
              "      <td>...</td>\n",
              "      <td>2</td>\n",
              "      <td>2</td>\n",
              "      <td>2</td>\n",
              "      <td>3</td>\n",
              "      <td>4</td>\n",
              "      <td>2</td>\n",
              "      <td>028</td>\n",
              "      <td>1</td>\n",
              "      <td>2</td>\n",
              "      <td>1</td>\n",
              "    </tr>\n",
              "  </tbody>\n",
              "</table>\n",
              "<p>180862 rows × 23 columns</p>\n",
              "</div>"
            ]
          },
          "execution_count": 57,
          "metadata": {},
          "output_type": "execute_result"
        }
      ],
      "execution_count": null
    },
    {
      "metadata": {
        "id": "Hawz8DxhKDcN"
      },
      "cell_type": "markdown",
      "source": [
        "### Recheck EDA\n",
        "\n",
        "Check if the data has been changed significantly, and if the statistical tests are still the same after imputation and feature reduction."
      ]
    },
    {
      "metadata": {
        "ExecuteTime": {
          "end_time": "2025-03-27T19:46:27.886071Z",
          "start_time": "2025-03-27T19:45:57.642954Z"
        },
        "id": "aByLnNujKDcN",
        "outputId": "42984689-6068-40aa-dd93-f4c6cc9db384",
        "colab": {
          "referenced_widgets": [
            "6cfbcc7d78fa40f58f1bfb318a290e2f",
            "bb570e868dce4f1d82b4f65ecdcbf7bb",
            "95c386c1798641a6a5669e611b0bab9d",
            "685cfb9780c74170a7e994025517a63f"
          ]
        }
      },
      "cell_type": "code",
      "source": [
        "generate_report(df, \"report-cleaned\")"
      ],
      "outputs": [
        {
          "data": {
            "text/plain": [
              "Summarize dataset:   0%|          | 0/5 [00:00<?, ?it/s]"
            ],
            "application/vnd.jupyter.widget-view+json": {
              "version_major": 2,
              "version_minor": 0,
              "model_id": "6cfbcc7d78fa40f58f1bfb318a290e2f"
            }
          },
          "metadata": {},
          "output_type": "display_data"
        },
        {
          "name": "stderr",
          "output_type": "stream",
          "text": [
            "\n",
            "  0%|          | 0/23 [00:00<?, ?it/s]\u001b[A\n",
            "100%|██████████| 23/23 [00:01<00:00, 14.41it/s][A\n"
          ]
        },
        {
          "data": {
            "text/plain": [
              "Generate report structure:   0%|          | 0/1 [00:00<?, ?it/s]"
            ],
            "application/vnd.jupyter.widget-view+json": {
              "version_major": 2,
              "version_minor": 0,
              "model_id": "bb570e868dce4f1d82b4f65ecdcbf7bb"
            }
          },
          "metadata": {},
          "output_type": "display_data"
        },
        {
          "data": {
            "text/plain": [
              "Render HTML:   0%|          | 0/1 [00:00<?, ?it/s]"
            ],
            "application/vnd.jupyter.widget-view+json": {
              "version_major": 2,
              "version_minor": 0,
              "model_id": "95c386c1798641a6a5669e611b0bab9d"
            }
          },
          "metadata": {},
          "output_type": "display_data"
        },
        {
          "data": {
            "text/plain": [
              "Export report to file:   0%|          | 0/1 [00:00<?, ?it/s]"
            ],
            "application/vnd.jupyter.widget-view+json": {
              "version_major": 2,
              "version_minor": 0,
              "model_id": "685cfb9780c74170a7e994025517a63f"
            }
          },
          "metadata": {},
          "output_type": "display_data"
        }
      ],
      "execution_count": null
    },
    {
      "metadata": {
        "id": "yL-DSlw7KDcN"
      },
      "cell_type": "markdown",
      "source": [
        "After checking the EDA again, duplicate data is present since there are columns that have been deleted."
      ]
    },
    {
      "metadata": {
        "ExecuteTime": {
          "end_time": "2025-03-27T19:46:28.127295Z",
          "start_time": "2025-03-27T19:46:27.910303Z"
        },
        "id": "onMFpYnhKDcN",
        "outputId": "8bd79b93-76de-485d-f239-f0c0ec50b3f3"
      },
      "cell_type": "code",
      "source": [
        "print(\"Duplicates: \", df.duplicated().sum())"
      ],
      "outputs": [
        {
          "name": "stdout",
          "output_type": "stream",
          "text": [
            "Duplicates:  70326\n"
          ]
        }
      ],
      "execution_count": null
    },
    {
      "metadata": {
        "ExecuteTime": {
          "end_time": "2025-03-27T19:46:28.448878Z",
          "start_time": "2025-03-27T19:46:28.150245Z"
        },
        "id": "GzbM5XsuKDcN",
        "outputId": "31e54038-9c38-4140-d4db-7562c0274da8"
      },
      "cell_type": "code",
      "source": [
        "df = df.drop_duplicates()\n",
        "print(\"Duplicates after dropping: \", df.duplicated().sum())"
      ],
      "outputs": [
        {
          "name": "stdout",
          "output_type": "stream",
          "text": [
            "Duplicates after dropping:  0\n"
          ]
        }
      ],
      "execution_count": null
    },
    {
      "metadata": {
        "id": "8eSoAXGdKDcN"
      },
      "cell_type": "markdown",
      "source": [
        "#### Binning and Encoding\n",
        "\n",
        "- One-hot encode categorical values"
      ]
    },
    {
      "metadata": {
        "ExecuteTime": {
          "end_time": "2025-03-27T19:46:28.681783Z",
          "start_time": "2025-03-27T19:46:28.452888Z"
        },
        "id": "Evrc1hwXKDcN"
      },
      "cell_type": "code",
      "source": [
        "# One hot encode binary categorical columns\n",
        "cat_cols = ['PUFURB2K10', 'PUFC04_SEX', 'PUFC08_CURSCH', 'PUFC09_GRADTECH', 'PUFC11_WORK', 'PUFC20_PWMORE', \"PUFC21_PLADDW\", 'PUFC22_PFWRK', 'PUFC26_OJOB', \"PUFC30_LOOKW\"]\n",
        "\n",
        "df = pd.get_dummies(df, columns=cat_cols, drop_first=True, dtype=float)\n",
        "df = df.rename(\n",
        "    columns = {\n",
        "        \"PUFURB2K10_2\": \"Is_Rural\",\n",
        "        \"PUFC04_SEX_2\": \"Is_Female\",\n",
        "        \"PUFC08_CURSCH_2\": \"Is_Not_In_School\",\n",
        "        \"PUFC09_GRADTECH_2\": \"Is_Not_In_Techvoc\",\n",
        "        \"PUFC11_WORK_2\": \"Is_Not_Working\",\n",
        "        \"PUFC20_PWMORE_2\": \"Has_Not_Wanted_More_Hours\",\n",
        "        \"PUFC21_PLADDW_2\": \"Has_Not_Looked_For_Work\",\n",
        "        \"PUFC22_PFWRK_2\": \"Is_Not_First_Time\",\n",
        "        \"PUFC26_OJOB_2\": \"No_Other_Job\",\n",
        "        \"PUFC30_LOOKW_2\": \"Has_Not_Looked_For_Work_Week\"\n",
        "    }\n",
        ")"
      ],
      "outputs": [],
      "execution_count": null
    },
    {
      "metadata": {
        "ExecuteTime": {
          "end_time": "2025-03-27T19:46:28.803738Z",
          "start_time": "2025-03-27T19:46:28.697617Z"
        },
        "id": "4TUOqlUtKDcO"
      },
      "cell_type": "code",
      "source": [
        "def one_hot_encode(df, df_col, df_new_col, category_map):\n",
        "    df[df_new_col] = df[df_col].apply(category_map)\n",
        "\n",
        "    # One hot encode the new categories\n",
        "    encoder = OneHotEncoder(sparse_output=False, drop=\"first\")\n",
        "    encoded = encoder.fit_transform(df[[df_new_col]])\n",
        "    encoded_df = pd.DataFrame(encoded, columns=encoder.get_feature_names_out([df_new_col]), index=df.index)\n",
        "\n",
        "    return pd.concat([df, encoded_df], axis=1)"
      ],
      "outputs": [],
      "execution_count": null
    },
    {
      "metadata": {
        "ExecuteTime": {
          "end_time": "2025-03-27T19:46:28.977136Z",
          "start_time": "2025-03-27T19:46:28.819297Z"
        },
        "id": "teFgK3z-KDcO",
        "outputId": "07362cef-1a5a-42e5-913f-ae7c63d0ac43"
      },
      "cell_type": "code",
      "source": [
        "df"
      ],
      "outputs": [
        {
          "data": {
            "text/plain": [
              "        PUFHHSIZE  PUFC03_REL  PUFC05_AGE PUFC06_MSTAT PUFC07_GRADE  \\\n",
              "0               3           1          49            2          350   \n",
              "1               3           2          61            2          350   \n",
              "2               3           3          19            1          350   \n",
              "3               4           1          48            2          320   \n",
              "4               4           2          41            2          350   \n",
              "...           ...         ...         ...          ...          ...   \n",
              "180850          7           1          34            2          000   \n",
              "180851          7           2          32            2          000   \n",
              "180857          5           1          29            2          350   \n",
              "180858          5           2          29            2          830   \n",
              "180861          5           8          18            1          350   \n",
              "\n",
              "       PUFC16_PKB PUFC17_NATEM PUFC18_PNWHRS PUFC23_PCLASS PUFC24_PBASIS  ...  \\\n",
              "0              01            1            08             3             4  ...   \n",
              "1              01            2            04             6             4  ...   \n",
              "2              01            2            08             1             3  ...   \n",
              "3              01            1            04             3             4  ...   \n",
              "4              96            1            12             0             4  ...   \n",
              "...           ...          ...           ...           ...           ...  ...   \n",
              "180850         03            1            05             3             4  ...   \n",
              "180851         01            1            04             3             4  ...   \n",
              "180857         50            1            08             4             4  ...   \n",
              "180858         01            1            08             1             4  ...   \n",
              "180861         01            1            04             3             4  ...   \n",
              "\n",
              "       Is_Rural Is_Female Is_Not_In_School  Is_Not_In_Techvoc  Is_Not_Working  \\\n",
              "0           1.0       0.0              0.0                1.0             0.0   \n",
              "1           1.0       1.0              0.0                1.0             0.0   \n",
              "2           1.0       0.0              1.0                1.0             0.0   \n",
              "3           1.0       0.0              0.0                1.0             0.0   \n",
              "4           1.0       1.0              0.0                1.0             0.0   \n",
              "...         ...       ...              ...                ...             ...   \n",
              "180850      1.0       0.0              0.0                1.0             0.0   \n",
              "180851      1.0       1.0              0.0                1.0             0.0   \n",
              "180857      1.0       0.0              0.0                1.0             0.0   \n",
              "180858      1.0       1.0              0.0                1.0             1.0   \n",
              "180861      1.0       0.0              1.0                1.0             0.0   \n",
              "\n",
              "        Has_Not_Wanted_More_Hours  Has_Not_Looked_For_Work  Is_Not_First_Time  \\\n",
              "0                             0.0                      0.0                1.0   \n",
              "1                             1.0                      1.0                1.0   \n",
              "2                             0.0                      0.0                1.0   \n",
              "3                             0.0                      0.0                1.0   \n",
              "4                             1.0                      1.0                1.0   \n",
              "...                           ...                      ...                ...   \n",
              "180850                        0.0                      0.0                1.0   \n",
              "180851                        0.0                      0.0                1.0   \n",
              "180857                        1.0                      1.0                1.0   \n",
              "180858                        1.0                      1.0                1.0   \n",
              "180861                        1.0                      1.0                1.0   \n",
              "\n",
              "        No_Other_Job  Has_Not_Looked_For_Work_Week  \n",
              "0                0.0                           1.0  \n",
              "1                1.0                           1.0  \n",
              "2                0.0                           1.0  \n",
              "3                0.0                           1.0  \n",
              "4                1.0                           1.0  \n",
              "...              ...                           ...  \n",
              "180850           0.0                           1.0  \n",
              "180851           0.0                           1.0  \n",
              "180857           1.0                           1.0  \n",
              "180858           1.0                           1.0  \n",
              "180861           1.0                           1.0  \n",
              "\n",
              "[110536 rows x 23 columns]"
            ],
            "text/html": [
              "<div>\n",
              "<style scoped>\n",
              "    .dataframe tbody tr th:only-of-type {\n",
              "        vertical-align: middle;\n",
              "    }\n",
              "\n",
              "    .dataframe tbody tr th {\n",
              "        vertical-align: top;\n",
              "    }\n",
              "\n",
              "    .dataframe thead th {\n",
              "        text-align: right;\n",
              "    }\n",
              "</style>\n",
              "<table border=\"1\" class=\"dataframe\">\n",
              "  <thead>\n",
              "    <tr style=\"text-align: right;\">\n",
              "      <th></th>\n",
              "      <th>PUFHHSIZE</th>\n",
              "      <th>PUFC03_REL</th>\n",
              "      <th>PUFC05_AGE</th>\n",
              "      <th>PUFC06_MSTAT</th>\n",
              "      <th>PUFC07_GRADE</th>\n",
              "      <th>PUFC16_PKB</th>\n",
              "      <th>PUFC17_NATEM</th>\n",
              "      <th>PUFC18_PNWHRS</th>\n",
              "      <th>PUFC23_PCLASS</th>\n",
              "      <th>PUFC24_PBASIS</th>\n",
              "      <th>...</th>\n",
              "      <th>Is_Rural</th>\n",
              "      <th>Is_Female</th>\n",
              "      <th>Is_Not_In_School</th>\n",
              "      <th>Is_Not_In_Techvoc</th>\n",
              "      <th>Is_Not_Working</th>\n",
              "      <th>Has_Not_Wanted_More_Hours</th>\n",
              "      <th>Has_Not_Looked_For_Work</th>\n",
              "      <th>Is_Not_First_Time</th>\n",
              "      <th>No_Other_Job</th>\n",
              "      <th>Has_Not_Looked_For_Work_Week</th>\n",
              "    </tr>\n",
              "  </thead>\n",
              "  <tbody>\n",
              "    <tr>\n",
              "      <th>0</th>\n",
              "      <td>3</td>\n",
              "      <td>1</td>\n",
              "      <td>49</td>\n",
              "      <td>2</td>\n",
              "      <td>350</td>\n",
              "      <td>01</td>\n",
              "      <td>1</td>\n",
              "      <td>08</td>\n",
              "      <td>3</td>\n",
              "      <td>4</td>\n",
              "      <td>...</td>\n",
              "      <td>1.0</td>\n",
              "      <td>0.0</td>\n",
              "      <td>0.0</td>\n",
              "      <td>1.0</td>\n",
              "      <td>0.0</td>\n",
              "      <td>0.0</td>\n",
              "      <td>0.0</td>\n",
              "      <td>1.0</td>\n",
              "      <td>0.0</td>\n",
              "      <td>1.0</td>\n",
              "    </tr>\n",
              "    <tr>\n",
              "      <th>1</th>\n",
              "      <td>3</td>\n",
              "      <td>2</td>\n",
              "      <td>61</td>\n",
              "      <td>2</td>\n",
              "      <td>350</td>\n",
              "      <td>01</td>\n",
              "      <td>2</td>\n",
              "      <td>04</td>\n",
              "      <td>6</td>\n",
              "      <td>4</td>\n",
              "      <td>...</td>\n",
              "      <td>1.0</td>\n",
              "      <td>1.0</td>\n",
              "      <td>0.0</td>\n",
              "      <td>1.0</td>\n",
              "      <td>0.0</td>\n",
              "      <td>1.0</td>\n",
              "      <td>1.0</td>\n",
              "      <td>1.0</td>\n",
              "      <td>1.0</td>\n",
              "      <td>1.0</td>\n",
              "    </tr>\n",
              "    <tr>\n",
              "      <th>2</th>\n",
              "      <td>3</td>\n",
              "      <td>3</td>\n",
              "      <td>19</td>\n",
              "      <td>1</td>\n",
              "      <td>350</td>\n",
              "      <td>01</td>\n",
              "      <td>2</td>\n",
              "      <td>08</td>\n",
              "      <td>1</td>\n",
              "      <td>3</td>\n",
              "      <td>...</td>\n",
              "      <td>1.0</td>\n",
              "      <td>0.0</td>\n",
              "      <td>1.0</td>\n",
              "      <td>1.0</td>\n",
              "      <td>0.0</td>\n",
              "      <td>0.0</td>\n",
              "      <td>0.0</td>\n",
              "      <td>1.0</td>\n",
              "      <td>0.0</td>\n",
              "      <td>1.0</td>\n",
              "    </tr>\n",
              "    <tr>\n",
              "      <th>3</th>\n",
              "      <td>4</td>\n",
              "      <td>1</td>\n",
              "      <td>48</td>\n",
              "      <td>2</td>\n",
              "      <td>320</td>\n",
              "      <td>01</td>\n",
              "      <td>1</td>\n",
              "      <td>04</td>\n",
              "      <td>3</td>\n",
              "      <td>4</td>\n",
              "      <td>...</td>\n",
              "      <td>1.0</td>\n",
              "      <td>0.0</td>\n",
              "      <td>0.0</td>\n",
              "      <td>1.0</td>\n",
              "      <td>0.0</td>\n",
              "      <td>0.0</td>\n",
              "      <td>0.0</td>\n",
              "      <td>1.0</td>\n",
              "      <td>0.0</td>\n",
              "      <td>1.0</td>\n",
              "    </tr>\n",
              "    <tr>\n",
              "      <th>4</th>\n",
              "      <td>4</td>\n",
              "      <td>2</td>\n",
              "      <td>41</td>\n",
              "      <td>2</td>\n",
              "      <td>350</td>\n",
              "      <td>96</td>\n",
              "      <td>1</td>\n",
              "      <td>12</td>\n",
              "      <td>0</td>\n",
              "      <td>4</td>\n",
              "      <td>...</td>\n",
              "      <td>1.0</td>\n",
              "      <td>1.0</td>\n",
              "      <td>0.0</td>\n",
              "      <td>1.0</td>\n",
              "      <td>0.0</td>\n",
              "      <td>1.0</td>\n",
              "      <td>1.0</td>\n",
              "      <td>1.0</td>\n",
              "      <td>1.0</td>\n",
              "      <td>1.0</td>\n",
              "    </tr>\n",
              "    <tr>\n",
              "      <th>...</th>\n",
              "      <td>...</td>\n",
              "      <td>...</td>\n",
              "      <td>...</td>\n",
              "      <td>...</td>\n",
              "      <td>...</td>\n",
              "      <td>...</td>\n",
              "      <td>...</td>\n",
              "      <td>...</td>\n",
              "      <td>...</td>\n",
              "      <td>...</td>\n",
              "      <td>...</td>\n",
              "      <td>...</td>\n",
              "      <td>...</td>\n",
              "      <td>...</td>\n",
              "      <td>...</td>\n",
              "      <td>...</td>\n",
              "      <td>...</td>\n",
              "      <td>...</td>\n",
              "      <td>...</td>\n",
              "      <td>...</td>\n",
              "      <td>...</td>\n",
              "    </tr>\n",
              "    <tr>\n",
              "      <th>180850</th>\n",
              "      <td>7</td>\n",
              "      <td>1</td>\n",
              "      <td>34</td>\n",
              "      <td>2</td>\n",
              "      <td>000</td>\n",
              "      <td>03</td>\n",
              "      <td>1</td>\n",
              "      <td>05</td>\n",
              "      <td>3</td>\n",
              "      <td>4</td>\n",
              "      <td>...</td>\n",
              "      <td>1.0</td>\n",
              "      <td>0.0</td>\n",
              "      <td>0.0</td>\n",
              "      <td>1.0</td>\n",
              "      <td>0.0</td>\n",
              "      <td>0.0</td>\n",
              "      <td>0.0</td>\n",
              "      <td>1.0</td>\n",
              "      <td>0.0</td>\n",
              "      <td>1.0</td>\n",
              "    </tr>\n",
              "    <tr>\n",
              "      <th>180851</th>\n",
              "      <td>7</td>\n",
              "      <td>2</td>\n",
              "      <td>32</td>\n",
              "      <td>2</td>\n",
              "      <td>000</td>\n",
              "      <td>01</td>\n",
              "      <td>1</td>\n",
              "      <td>04</td>\n",
              "      <td>3</td>\n",
              "      <td>4</td>\n",
              "      <td>...</td>\n",
              "      <td>1.0</td>\n",
              "      <td>1.0</td>\n",
              "      <td>0.0</td>\n",
              "      <td>1.0</td>\n",
              "      <td>0.0</td>\n",
              "      <td>0.0</td>\n",
              "      <td>0.0</td>\n",
              "      <td>1.0</td>\n",
              "      <td>0.0</td>\n",
              "      <td>1.0</td>\n",
              "    </tr>\n",
              "    <tr>\n",
              "      <th>180857</th>\n",
              "      <td>5</td>\n",
              "      <td>1</td>\n",
              "      <td>29</td>\n",
              "      <td>2</td>\n",
              "      <td>350</td>\n",
              "      <td>50</td>\n",
              "      <td>1</td>\n",
              "      <td>08</td>\n",
              "      <td>4</td>\n",
              "      <td>4</td>\n",
              "      <td>...</td>\n",
              "      <td>1.0</td>\n",
              "      <td>0.0</td>\n",
              "      <td>0.0</td>\n",
              "      <td>1.0</td>\n",
              "      <td>0.0</td>\n",
              "      <td>1.0</td>\n",
              "      <td>1.0</td>\n",
              "      <td>1.0</td>\n",
              "      <td>1.0</td>\n",
              "      <td>1.0</td>\n",
              "    </tr>\n",
              "    <tr>\n",
              "      <th>180858</th>\n",
              "      <td>5</td>\n",
              "      <td>2</td>\n",
              "      <td>29</td>\n",
              "      <td>2</td>\n",
              "      <td>830</td>\n",
              "      <td>01</td>\n",
              "      <td>1</td>\n",
              "      <td>08</td>\n",
              "      <td>1</td>\n",
              "      <td>4</td>\n",
              "      <td>...</td>\n",
              "      <td>1.0</td>\n",
              "      <td>1.0</td>\n",
              "      <td>0.0</td>\n",
              "      <td>1.0</td>\n",
              "      <td>1.0</td>\n",
              "      <td>1.0</td>\n",
              "      <td>1.0</td>\n",
              "      <td>1.0</td>\n",
              "      <td>1.0</td>\n",
              "      <td>1.0</td>\n",
              "    </tr>\n",
              "    <tr>\n",
              "      <th>180861</th>\n",
              "      <td>5</td>\n",
              "      <td>8</td>\n",
              "      <td>18</td>\n",
              "      <td>1</td>\n",
              "      <td>350</td>\n",
              "      <td>01</td>\n",
              "      <td>1</td>\n",
              "      <td>04</td>\n",
              "      <td>3</td>\n",
              "      <td>4</td>\n",
              "      <td>...</td>\n",
              "      <td>1.0</td>\n",
              "      <td>0.0</td>\n",
              "      <td>1.0</td>\n",
              "      <td>1.0</td>\n",
              "      <td>0.0</td>\n",
              "      <td>1.0</td>\n",
              "      <td>1.0</td>\n",
              "      <td>1.0</td>\n",
              "      <td>1.0</td>\n",
              "      <td>1.0</td>\n",
              "    </tr>\n",
              "  </tbody>\n",
              "</table>\n",
              "<p>110536 rows × 23 columns</p>\n",
              "</div>"
            ]
          },
          "execution_count": 63,
          "metadata": {},
          "output_type": "execute_result"
        }
      ],
      "execution_count": null
    },
    {
      "metadata": {
        "id": "SEArLx2pKDcO"
      },
      "cell_type": "markdown",
      "source": [
        "#### PUFC07_GRADE\n",
        "This classification data contains a lot of values in the value set. It can be noticed that there are different values for highest educational attainment and the program category. Since they are only one column, it might be better to encode the highest educational attainment as an ordinal encoded variable, and the program category as 15 different categories instead of 50+."
      ]
    },
    {
      "metadata": {
        "ExecuteTime": {
          "end_time": "2025-03-27T19:46:29.140141Z",
          "start_time": "2025-03-27T19:46:29.020861Z"
        },
        "id": "Lavs3Kq-KDcO"
      },
      "cell_type": "code",
      "source": [
        "education_categories = {\n",
        "    \"Primary\": [\"000\", \"010\", \"210\", \"220\", \"230\", \"240\", \"250\", \"260\", \"280\"],\n",
        "    \"Secondary\": [\"310\", \"320\", \"330\", \"340\", \"350\"],\n",
        "    \"Post-Secondary\": [\"410\", \"420\", \"810\", \"820\", \"830\", \"840\", \"900\"],\n",
        "    \"STEM\": [\"542\", \"544\", \"548\", \"552\", \"554\", \"558\", \"562\", \"564\", \"572\", \"642\", \"644\", \"646\", \"648\", \"652\", \"654\", \"658\", \"662\", \"664\", \"672\"],\n",
        "    \"Business\": [\"534\", \"634\", \"638\"],\n",
        "    \"Art\": [\"521\", \"522\", \"531\", \"532\", \"621\", \"622\", \"631\", \"632\"],\n",
        "    \"Other\": [\"501\", \"508\", \"509\", \"514\", \"576\", \"581\", \"584\", \"585\", \"586\", \"601\", \"614\", \"676\", \"681\", \"684\", \"685\", \"686\", \"589\", \"689\"]\n",
        "}\n",
        "\n",
        "\n",
        "def get_education_category(x):\n",
        "    for key, values in education_categories.items():\n",
        "        if x in values:\n",
        "            return key\n",
        "    return \"Unknown\""
      ],
      "outputs": [],
      "execution_count": null
    },
    {
      "metadata": {
        "ExecuteTime": {
          "end_time": "2025-03-27T19:46:29.384922Z",
          "start_time": "2025-03-27T19:46:29.167836Z"
        },
        "id": "6eZpuey0KDcO"
      },
      "cell_type": "code",
      "source": [
        "df = one_hot_encode(df, \"PUFC07_GRADE\", \"Education\", get_education_category)"
      ],
      "outputs": [],
      "execution_count": null
    },
    {
      "metadata": {
        "id": "SCddfcGXKDcO"
      },
      "cell_type": "markdown",
      "source": [
        "### PUFC16_PKB\n",
        "The valueset offers a binning for this column already. The values are binned into 3 categories: Agriculture, Industry, Services."
      ]
    },
    {
      "metadata": {
        "ExecuteTime": {
          "end_time": "2025-03-27T19:46:29.497863Z",
          "start_time": "2025-03-27T19:46:29.388810Z"
        },
        "id": "mTnieMJrKDcS"
      },
      "cell_type": "code",
      "source": [
        "industry_categories = {\n",
        "    \"Agriculture\": range(1, 3),\n",
        "    \"Industry\": range(5, 43),\n",
        "    \"Services\": range(45, 99)\n",
        "}\n",
        "\n",
        "def get_industry_category(x):\n",
        "    for key, values in industry_categories.items():\n",
        "        if x in values:\n",
        "            return key\n",
        "    return \"Unknown\""
      ],
      "outputs": [],
      "execution_count": null
    },
    {
      "metadata": {
        "ExecuteTime": {
          "end_time": "2025-03-27T19:46:29.835725Z",
          "start_time": "2025-03-27T19:46:29.514761Z"
        },
        "id": "cPoMisw-KDcS"
      },
      "cell_type": "code",
      "source": [
        "df = one_hot_encode(df, \"PUFC16_PKB\", \"KindOfBusiness\", get_industry_category)"
      ],
      "outputs": [],
      "execution_count": null
    },
    {
      "metadata": {
        "id": "tr7s8w8LKDcS"
      },
      "cell_type": "markdown",
      "source": [
        "### PUFC29_WWM48H\n",
        "One hot encode based on the given reasons for working more than 48 hours.\n",
        "\n",
        "1. Want - Wanted more earnings\n",
        "2. Requirement - Requirements of the job\n",
        "3. Exceptional - Exceptional week\n",
        "4. Passion - Ambition, passion for job\n",
        "5. Other - Other reasons\n"
      ]
    },
    {
      "metadata": {
        "ExecuteTime": {
          "end_time": "2025-03-27T19:46:29.952779Z",
          "start_time": "2025-03-27T19:46:29.850873Z"
        },
        "id": "id8-2j5jKDcS"
      },
      "cell_type": "code",
      "source": [
        "reason_categories = {\n",
        "    'Want': \"1\",\n",
        "    'Requirement': \"2\",\n",
        "    'Exceptional': \"3\",\n",
        "    'Passion': \"4\",\n",
        "    'Other': \"5\"\n",
        "}\n",
        "\n",
        "def get_reason_category(x):\n",
        "    for key, value in reason_categories.items():\n",
        "        if x == value:\n",
        "            return key\n",
        "\n",
        "    return \"Unknown\"\n",
        "\n",
        "df_col = \"PUFC29_WWM48H\"\n",
        "df_new_col = \"Work48H\""
      ],
      "outputs": [],
      "execution_count": null
    },
    {
      "metadata": {
        "ExecuteTime": {
          "end_time": "2025-03-27T19:46:30.133314Z",
          "start_time": "2025-03-27T19:46:29.968642Z"
        },
        "id": "agv0r7iaKDcS"
      },
      "cell_type": "code",
      "source": [
        "df = one_hot_encode(df, \"PUFC29_WWM48H\", \"Work48H\", get_reason_category)"
      ],
      "outputs": [],
      "execution_count": null
    },
    {
      "metadata": {
        "id": "dajLgl6nKDcS"
      },
      "cell_type": "markdown",
      "source": [
        "### PUFNEWEMPSTAT\n",
        "One hot encode the categories if the individual is employed, not employed, or not in workforce."
      ]
    },
    {
      "metadata": {
        "ExecuteTime": {
          "end_time": "2025-03-27T19:46:30.254968Z",
          "start_time": "2025-03-27T19:46:30.150283Z"
        },
        "id": "sACPOGT4KDcT"
      },
      "cell_type": "code",
      "source": [
        "workforce_categories = {\n",
        "    'Employed': \"1\",\n",
        "    'Unemployed': \"2\",\n",
        "    'NotInWorkForce': \"3\",\n",
        "}\n",
        "\n",
        "def get_workforce_category(x):\n",
        "    for key, value in workforce_categories.items():\n",
        "        if x == value:\n",
        "            return key\n",
        "\n",
        "    return \"Unknown\"\n"
      ],
      "outputs": [],
      "execution_count": null
    },
    {
      "metadata": {
        "ExecuteTime": {
          "end_time": "2025-03-27T19:46:30.444980Z",
          "start_time": "2025-03-27T19:46:30.270244Z"
        },
        "id": "BcQfh7fFKDcT"
      },
      "cell_type": "code",
      "source": [
        "df = one_hot_encode(df, \"PUFNEWEMPSTAT\", \"Employment_Status\", get_workforce_category)"
      ],
      "outputs": [],
      "execution_count": null
    },
    {
      "metadata": {
        "id": "3YN25rimKDcT"
      },
      "cell_type": "markdown",
      "source": [
        "### PUFC17_NATEM\n",
        "One hot encode the categories if permanent, short-term, or different employer."
      ]
    },
    {
      "metadata": {
        "ExecuteTime": {
          "end_time": "2025-03-27T19:46:30.563804Z",
          "start_time": "2025-03-27T19:46:30.460787Z"
        },
        "id": "3EyPTRntKDcT"
      },
      "cell_type": "code",
      "source": [
        "nature_categories = {\n",
        "    \"Permanent\": \"1\",\n",
        "    \"Short-Term\": \"2\",\n",
        "    \"Different_Employer\": \"3\",\n",
        "}\n",
        "\n",
        "def get_nature_category(x):\n",
        "    for key, value in nature_categories.items():\n",
        "        if x == value:\n",
        "            return key\n",
        "\n",
        "    return \"Unknown\""
      ],
      "outputs": [],
      "execution_count": null
    },
    {
      "metadata": {
        "ExecuteTime": {
          "end_time": "2025-03-27T19:46:30.762108Z",
          "start_time": "2025-03-27T19:46:30.580156Z"
        },
        "id": "V4r2Wq1nKDcT"
      },
      "cell_type": "code",
      "source": [
        "df = one_hot_encode(df, \"PUFC17_NATEM\", \"NatureOfEmployment\", get_nature_category)"
      ],
      "outputs": [],
      "execution_count": null
    },
    {
      "metadata": {
        "ExecuteTime": {
          "end_time": "2025-03-27T19:46:30.902998Z",
          "start_time": "2025-03-27T19:46:30.782639Z"
        },
        "id": "B7se3KsKKDcT"
      },
      "cell_type": "code",
      "source": [
        "df.drop(columns=[\"PUFC07_GRADE\", \"Education\", \"PUFC16_PKB\", \"KindOfBusiness\", \"PUFC29_WWM48H\", \"Work48H\", \"PUFNEWEMPSTAT\", \"Employment_Status\", \"PUFC17_NATEM\", \"NatureOfEmployment\"], inplace=True)"
      ],
      "outputs": [],
      "execution_count": null
    },
    {
      "metadata": {
        "ExecuteTime": {
          "end_time": "2025-03-27T19:46:31.073463Z",
          "start_time": "2025-03-27T19:46:30.920169Z"
        },
        "id": "VzJCwZMoKDcT",
        "outputId": "be5f0b48-278e-42cb-da2e-5af3e1b05ee1"
      },
      "cell_type": "code",
      "source": [
        "df"
      ],
      "outputs": [
        {
          "data": {
            "text/plain": [
              "        PUFHHSIZE  PUFC03_REL  PUFC05_AGE PUFC06_MSTAT PUFC18_PNWHRS  \\\n",
              "0               3           1          49            2            08   \n",
              "1               3           2          61            2            04   \n",
              "2               3           3          19            1            08   \n",
              "3               4           1          48            2            04   \n",
              "4               4           2          41            2            12   \n",
              "...           ...         ...         ...          ...           ...   \n",
              "180850          7           1          34            2            05   \n",
              "180851          7           2          32            2            04   \n",
              "180857          5           1          29            2            08   \n",
              "180858          5           2          29            2            08   \n",
              "180861          5           8          18            1            04   \n",
              "\n",
              "       PUFC23_PCLASS PUFC24_PBASIS PUFC28_THOURS  Is_Rural  Is_Female  ...  \\\n",
              "0                  3             4           032       1.0        0.0  ...   \n",
              "1                  6             4           008       1.0        1.0  ...   \n",
              "2                  1             3           034       1.0        0.0  ...   \n",
              "3                  3             4           033       1.0        0.0  ...   \n",
              "4                  0             4           072       1.0        1.0  ...   \n",
              "...              ...           ...           ...       ...        ...  ...   \n",
              "180850             3             4           040       1.0        0.0  ...   \n",
              "180851             3             4           048       1.0        1.0  ...   \n",
              "180857             4             4           040       1.0        0.0  ...   \n",
              "180858             1             4           048       1.0        1.0  ...   \n",
              "180861             3             4           028       1.0        0.0  ...   \n",
              "\n",
              "        Education_STEM  Education_Secondary  Work48H_Other  Work48H_Passion  \\\n",
              "0                  0.0                  1.0            0.0              0.0   \n",
              "1                  0.0                  1.0            0.0              0.0   \n",
              "2                  0.0                  1.0            0.0              0.0   \n",
              "3                  0.0                  1.0            0.0              0.0   \n",
              "4                  0.0                  1.0            0.0              0.0   \n",
              "...                ...                  ...            ...              ...   \n",
              "180850             0.0                  0.0            0.0              0.0   \n",
              "180851             0.0                  0.0            0.0              0.0   \n",
              "180857             0.0                  1.0            0.0              0.0   \n",
              "180858             0.0                  0.0            0.0              0.0   \n",
              "180861             0.0                  1.0            0.0              0.0   \n",
              "\n",
              "        Work48H_Requirement  Work48H_Want  Employment_Status_NotInWorkForce  \\\n",
              "0                       0.0           1.0                               0.0   \n",
              "1                       0.0           1.0                               0.0   \n",
              "2                       0.0           1.0                               0.0   \n",
              "3                       0.0           1.0                               0.0   \n",
              "4                       1.0           0.0                               0.0   \n",
              "...                     ...           ...                               ...   \n",
              "180850                  0.0           1.0                               0.0   \n",
              "180851                  0.0           1.0                               0.0   \n",
              "180857                  0.0           1.0                               0.0   \n",
              "180858                  0.0           1.0                               1.0   \n",
              "180861                  0.0           1.0                               0.0   \n",
              "\n",
              "        Employment_Status_Unemployed  NatureOfEmployment_Permanent  \\\n",
              "0                                0.0                           1.0   \n",
              "1                                0.0                           0.0   \n",
              "2                                0.0                           0.0   \n",
              "3                                0.0                           1.0   \n",
              "4                                0.0                           1.0   \n",
              "...                              ...                           ...   \n",
              "180850                           0.0                           1.0   \n",
              "180851                           0.0                           1.0   \n",
              "180857                           0.0                           1.0   \n",
              "180858                           0.0                           1.0   \n",
              "180861                           0.0                           1.0   \n",
              "\n",
              "        NatureOfEmployment_Short-Term  \n",
              "0                                 0.0  \n",
              "1                                 1.0  \n",
              "2                                 1.0  \n",
              "3                                 0.0  \n",
              "4                                 0.0  \n",
              "...                               ...  \n",
              "180850                            0.0  \n",
              "180851                            0.0  \n",
              "180857                            0.0  \n",
              "180858                            0.0  \n",
              "180861                            0.0  \n",
              "\n",
              "[110536 rows x 32 columns]"
            ],
            "text/html": [
              "<div>\n",
              "<style scoped>\n",
              "    .dataframe tbody tr th:only-of-type {\n",
              "        vertical-align: middle;\n",
              "    }\n",
              "\n",
              "    .dataframe tbody tr th {\n",
              "        vertical-align: top;\n",
              "    }\n",
              "\n",
              "    .dataframe thead th {\n",
              "        text-align: right;\n",
              "    }\n",
              "</style>\n",
              "<table border=\"1\" class=\"dataframe\">\n",
              "  <thead>\n",
              "    <tr style=\"text-align: right;\">\n",
              "      <th></th>\n",
              "      <th>PUFHHSIZE</th>\n",
              "      <th>PUFC03_REL</th>\n",
              "      <th>PUFC05_AGE</th>\n",
              "      <th>PUFC06_MSTAT</th>\n",
              "      <th>PUFC18_PNWHRS</th>\n",
              "      <th>PUFC23_PCLASS</th>\n",
              "      <th>PUFC24_PBASIS</th>\n",
              "      <th>PUFC28_THOURS</th>\n",
              "      <th>Is_Rural</th>\n",
              "      <th>Is_Female</th>\n",
              "      <th>...</th>\n",
              "      <th>Education_STEM</th>\n",
              "      <th>Education_Secondary</th>\n",
              "      <th>Work48H_Other</th>\n",
              "      <th>Work48H_Passion</th>\n",
              "      <th>Work48H_Requirement</th>\n",
              "      <th>Work48H_Want</th>\n",
              "      <th>Employment_Status_NotInWorkForce</th>\n",
              "      <th>Employment_Status_Unemployed</th>\n",
              "      <th>NatureOfEmployment_Permanent</th>\n",
              "      <th>NatureOfEmployment_Short-Term</th>\n",
              "    </tr>\n",
              "  </thead>\n",
              "  <tbody>\n",
              "    <tr>\n",
              "      <th>0</th>\n",
              "      <td>3</td>\n",
              "      <td>1</td>\n",
              "      <td>49</td>\n",
              "      <td>2</td>\n",
              "      <td>08</td>\n",
              "      <td>3</td>\n",
              "      <td>4</td>\n",
              "      <td>032</td>\n",
              "      <td>1.0</td>\n",
              "      <td>0.0</td>\n",
              "      <td>...</td>\n",
              "      <td>0.0</td>\n",
              "      <td>1.0</td>\n",
              "      <td>0.0</td>\n",
              "      <td>0.0</td>\n",
              "      <td>0.0</td>\n",
              "      <td>1.0</td>\n",
              "      <td>0.0</td>\n",
              "      <td>0.0</td>\n",
              "      <td>1.0</td>\n",
              "      <td>0.0</td>\n",
              "    </tr>\n",
              "    <tr>\n",
              "      <th>1</th>\n",
              "      <td>3</td>\n",
              "      <td>2</td>\n",
              "      <td>61</td>\n",
              "      <td>2</td>\n",
              "      <td>04</td>\n",
              "      <td>6</td>\n",
              "      <td>4</td>\n",
              "      <td>008</td>\n",
              "      <td>1.0</td>\n",
              "      <td>1.0</td>\n",
              "      <td>...</td>\n",
              "      <td>0.0</td>\n",
              "      <td>1.0</td>\n",
              "      <td>0.0</td>\n",
              "      <td>0.0</td>\n",
              "      <td>0.0</td>\n",
              "      <td>1.0</td>\n",
              "      <td>0.0</td>\n",
              "      <td>0.0</td>\n",
              "      <td>0.0</td>\n",
              "      <td>1.0</td>\n",
              "    </tr>\n",
              "    <tr>\n",
              "      <th>2</th>\n",
              "      <td>3</td>\n",
              "      <td>3</td>\n",
              "      <td>19</td>\n",
              "      <td>1</td>\n",
              "      <td>08</td>\n",
              "      <td>1</td>\n",
              "      <td>3</td>\n",
              "      <td>034</td>\n",
              "      <td>1.0</td>\n",
              "      <td>0.0</td>\n",
              "      <td>...</td>\n",
              "      <td>0.0</td>\n",
              "      <td>1.0</td>\n",
              "      <td>0.0</td>\n",
              "      <td>0.0</td>\n",
              "      <td>0.0</td>\n",
              "      <td>1.0</td>\n",
              "      <td>0.0</td>\n",
              "      <td>0.0</td>\n",
              "      <td>0.0</td>\n",
              "      <td>1.0</td>\n",
              "    </tr>\n",
              "    <tr>\n",
              "      <th>3</th>\n",
              "      <td>4</td>\n",
              "      <td>1</td>\n",
              "      <td>48</td>\n",
              "      <td>2</td>\n",
              "      <td>04</td>\n",
              "      <td>3</td>\n",
              "      <td>4</td>\n",
              "      <td>033</td>\n",
              "      <td>1.0</td>\n",
              "      <td>0.0</td>\n",
              "      <td>...</td>\n",
              "      <td>0.0</td>\n",
              "      <td>1.0</td>\n",
              "      <td>0.0</td>\n",
              "      <td>0.0</td>\n",
              "      <td>0.0</td>\n",
              "      <td>1.0</td>\n",
              "      <td>0.0</td>\n",
              "      <td>0.0</td>\n",
              "      <td>1.0</td>\n",
              "      <td>0.0</td>\n",
              "    </tr>\n",
              "    <tr>\n",
              "      <th>4</th>\n",
              "      <td>4</td>\n",
              "      <td>2</td>\n",
              "      <td>41</td>\n",
              "      <td>2</td>\n",
              "      <td>12</td>\n",
              "      <td>0</td>\n",
              "      <td>4</td>\n",
              "      <td>072</td>\n",
              "      <td>1.0</td>\n",
              "      <td>1.0</td>\n",
              "      <td>...</td>\n",
              "      <td>0.0</td>\n",
              "      <td>1.0</td>\n",
              "      <td>0.0</td>\n",
              "      <td>0.0</td>\n",
              "      <td>1.0</td>\n",
              "      <td>0.0</td>\n",
              "      <td>0.0</td>\n",
              "      <td>0.0</td>\n",
              "      <td>1.0</td>\n",
              "      <td>0.0</td>\n",
              "    </tr>\n",
              "    <tr>\n",
              "      <th>...</th>\n",
              "      <td>...</td>\n",
              "      <td>...</td>\n",
              "      <td>...</td>\n",
              "      <td>...</td>\n",
              "      <td>...</td>\n",
              "      <td>...</td>\n",
              "      <td>...</td>\n",
              "      <td>...</td>\n",
              "      <td>...</td>\n",
              "      <td>...</td>\n",
              "      <td>...</td>\n",
              "      <td>...</td>\n",
              "      <td>...</td>\n",
              "      <td>...</td>\n",
              "      <td>...</td>\n",
              "      <td>...</td>\n",
              "      <td>...</td>\n",
              "      <td>...</td>\n",
              "      <td>...</td>\n",
              "      <td>...</td>\n",
              "      <td>...</td>\n",
              "    </tr>\n",
              "    <tr>\n",
              "      <th>180850</th>\n",
              "      <td>7</td>\n",
              "      <td>1</td>\n",
              "      <td>34</td>\n",
              "      <td>2</td>\n",
              "      <td>05</td>\n",
              "      <td>3</td>\n",
              "      <td>4</td>\n",
              "      <td>040</td>\n",
              "      <td>1.0</td>\n",
              "      <td>0.0</td>\n",
              "      <td>...</td>\n",
              "      <td>0.0</td>\n",
              "      <td>0.0</td>\n",
              "      <td>0.0</td>\n",
              "      <td>0.0</td>\n",
              "      <td>0.0</td>\n",
              "      <td>1.0</td>\n",
              "      <td>0.0</td>\n",
              "      <td>0.0</td>\n",
              "      <td>1.0</td>\n",
              "      <td>0.0</td>\n",
              "    </tr>\n",
              "    <tr>\n",
              "      <th>180851</th>\n",
              "      <td>7</td>\n",
              "      <td>2</td>\n",
              "      <td>32</td>\n",
              "      <td>2</td>\n",
              "      <td>04</td>\n",
              "      <td>3</td>\n",
              "      <td>4</td>\n",
              "      <td>048</td>\n",
              "      <td>1.0</td>\n",
              "      <td>1.0</td>\n",
              "      <td>...</td>\n",
              "      <td>0.0</td>\n",
              "      <td>0.0</td>\n",
              "      <td>0.0</td>\n",
              "      <td>0.0</td>\n",
              "      <td>0.0</td>\n",
              "      <td>1.0</td>\n",
              "      <td>0.0</td>\n",
              "      <td>0.0</td>\n",
              "      <td>1.0</td>\n",
              "      <td>0.0</td>\n",
              "    </tr>\n",
              "    <tr>\n",
              "      <th>180857</th>\n",
              "      <td>5</td>\n",
              "      <td>1</td>\n",
              "      <td>29</td>\n",
              "      <td>2</td>\n",
              "      <td>08</td>\n",
              "      <td>4</td>\n",
              "      <td>4</td>\n",
              "      <td>040</td>\n",
              "      <td>1.0</td>\n",
              "      <td>0.0</td>\n",
              "      <td>...</td>\n",
              "      <td>0.0</td>\n",
              "      <td>1.0</td>\n",
              "      <td>0.0</td>\n",
              "      <td>0.0</td>\n",
              "      <td>0.0</td>\n",
              "      <td>1.0</td>\n",
              "      <td>0.0</td>\n",
              "      <td>0.0</td>\n",
              "      <td>1.0</td>\n",
              "      <td>0.0</td>\n",
              "    </tr>\n",
              "    <tr>\n",
              "      <th>180858</th>\n",
              "      <td>5</td>\n",
              "      <td>2</td>\n",
              "      <td>29</td>\n",
              "      <td>2</td>\n",
              "      <td>08</td>\n",
              "      <td>1</td>\n",
              "      <td>4</td>\n",
              "      <td>048</td>\n",
              "      <td>1.0</td>\n",
              "      <td>1.0</td>\n",
              "      <td>...</td>\n",
              "      <td>0.0</td>\n",
              "      <td>0.0</td>\n",
              "      <td>0.0</td>\n",
              "      <td>0.0</td>\n",
              "      <td>0.0</td>\n",
              "      <td>1.0</td>\n",
              "      <td>1.0</td>\n",
              "      <td>0.0</td>\n",
              "      <td>1.0</td>\n",
              "      <td>0.0</td>\n",
              "    </tr>\n",
              "    <tr>\n",
              "      <th>180861</th>\n",
              "      <td>5</td>\n",
              "      <td>8</td>\n",
              "      <td>18</td>\n",
              "      <td>1</td>\n",
              "      <td>04</td>\n",
              "      <td>3</td>\n",
              "      <td>4</td>\n",
              "      <td>028</td>\n",
              "      <td>1.0</td>\n",
              "      <td>0.0</td>\n",
              "      <td>...</td>\n",
              "      <td>0.0</td>\n",
              "      <td>1.0</td>\n",
              "      <td>0.0</td>\n",
              "      <td>0.0</td>\n",
              "      <td>0.0</td>\n",
              "      <td>1.0</td>\n",
              "      <td>0.0</td>\n",
              "      <td>0.0</td>\n",
              "      <td>1.0</td>\n",
              "      <td>0.0</td>\n",
              "    </tr>\n",
              "  </tbody>\n",
              "</table>\n",
              "<p>110536 rows × 32 columns</p>\n",
              "</div>"
            ]
          },
          "execution_count": 75,
          "metadata": {},
          "output_type": "execute_result"
        }
      ],
      "execution_count": null
    },
    {
      "metadata": {
        "id": "rLlNfC5kKDcT"
      },
      "cell_type": "markdown",
      "source": [
        "### Label Encoding\n",
        "\n",
        "Label encode remaining variables with more than 2 categories that can be ordered."
      ]
    },
    {
      "metadata": {
        "ExecuteTime": {
          "end_time": "2025-03-27T19:46:31.265518Z",
          "start_time": "2025-03-27T19:46:31.116874Z"
        },
        "id": "KVT9ye4lKDcT"
      },
      "cell_type": "code",
      "source": [
        "df[\"Hours_Work_Total\"] = pd.to_numeric(df[\"PUFC28_THOURS\"], errors=\"coerce\").astype('int64')"
      ],
      "outputs": [],
      "execution_count": null
    },
    {
      "metadata": {
        "ExecuteTime": {
          "end_time": "2025-03-27T19:46:31.435884Z",
          "start_time": "2025-03-27T19:46:31.289722Z"
        },
        "id": "ou6_ewoEKDcU"
      },
      "cell_type": "code",
      "source": [
        "encoder = LabelEncoder()\n",
        "df[\"Marital_Status\"] = encoder.fit_transform(df[\"PUFC06_MSTAT\"]).astype('int64')\n",
        "df[\"Working_Hours_Per_Week\"] = encoder.fit_transform(df[\"PUFC18_PNWHRS\"]).astype('int64')\n",
        "df[\"Class_Of_Worker\"] = encoder.fit_transform(df[\"PUFC23_PCLASS\"]).astype('int64')\n",
        "df[\"Payment_Basis\"] = encoder.fit_transform(df[\"PUFC24_PBASIS\"]).astype('int64')"
      ],
      "outputs": [],
      "execution_count": null
    },
    {
      "metadata": {
        "ExecuteTime": {
          "end_time": "2025-03-27T19:46:31.572133Z",
          "start_time": "2025-03-27T19:46:31.457786Z"
        },
        "id": "N-LmlA1BKDcU"
      },
      "cell_type": "code",
      "source": [
        "df.drop(columns=[\"PUFC06_MSTAT\", \"PUFC18_PNWHRS\", \"PUFC23_PCLASS\", \"PUFC24_PBASIS\", \"PUFC28_THOURS\"], inplace=True)"
      ],
      "outputs": [],
      "execution_count": null
    },
    {
      "metadata": {
        "id": "WfAvAy81KDcU"
      },
      "cell_type": "markdown",
      "source": [
        "Rename Remaining Variables"
      ]
    },
    {
      "metadata": {
        "ExecuteTime": {
          "end_time": "2025-03-27T19:46:31.724267Z",
          "start_time": "2025-03-27T19:46:31.576683Z"
        },
        "id": "9l8XbAiAKDcU"
      },
      "cell_type": "code",
      "source": [
        "df = df.rename(columns={\n",
        "    \"PUFHHSIZE\": \"Household_Size\",\n",
        "    \"PUFC03_REL\": \"Relationship\",\n",
        "    \"PUFC05_AGE\": \"Age\",\n",
        "})"
      ],
      "outputs": [],
      "execution_count": null
    },
    {
      "metadata": {
        "ExecuteTime": {
          "end_time": "2025-03-27T19:47:49.833023Z",
          "start_time": "2025-03-27T19:47:49.653236Z"
        },
        "id": "yLDqcOb1KDcU",
        "outputId": "a02568db-c817-4d1b-c3dc-55a4b2d10c49"
      },
      "cell_type": "code",
      "source": [
        "df.duplicated().sum()"
      ],
      "outputs": [
        {
          "data": {
            "text/plain": [
              "13200"
            ]
          },
          "execution_count": 82,
          "metadata": {},
          "output_type": "execute_result"
        }
      ],
      "execution_count": null
    },
    {
      "metadata": {
        "ExecuteTime": {
          "end_time": "2025-03-27T19:48:12.420338Z",
          "start_time": "2025-03-27T19:48:12.244258Z"
        },
        "id": "4_vxMtKAKDcU",
        "outputId": "f1d4643c-6d7d-4ff7-a379-a426459b8159"
      },
      "cell_type": "code",
      "source": [
        "df.drop_duplicates()"
      ],
      "outputs": [
        {
          "data": {
            "text/plain": [
              "        Household_Size  Relationship  Age  Is_Rural  Is_Female  \\\n",
              "0                    3             1   49       1.0        0.0   \n",
              "1                    3             2   61       1.0        1.0   \n",
              "2                    3             3   19       1.0        0.0   \n",
              "3                    4             1   48       1.0        0.0   \n",
              "4                    4             2   41       1.0        1.0   \n",
              "...                ...           ...  ...       ...        ...   \n",
              "180848               6             3   25       1.0        0.0   \n",
              "180850               7             1   34       1.0        0.0   \n",
              "180851               7             2   32       1.0        1.0   \n",
              "180857               5             1   29       1.0        0.0   \n",
              "180861               5             8   18       1.0        0.0   \n",
              "\n",
              "        Is_Not_In_School  Is_Not_In_Techvoc  Is_Not_Working  \\\n",
              "0                    0.0                1.0             0.0   \n",
              "1                    0.0                1.0             0.0   \n",
              "2                    1.0                1.0             0.0   \n",
              "3                    0.0                1.0             0.0   \n",
              "4                    0.0                1.0             0.0   \n",
              "...                  ...                ...             ...   \n",
              "180848               0.0                1.0             0.0   \n",
              "180850               0.0                1.0             0.0   \n",
              "180851               0.0                1.0             0.0   \n",
              "180857               0.0                1.0             0.0   \n",
              "180861               1.0                1.0             0.0   \n",
              "\n",
              "        Has_Not_Wanted_More_Hours  Has_Not_Looked_For_Work  ...  Work48H_Want  \\\n",
              "0                             0.0                      0.0  ...           1.0   \n",
              "1                             1.0                      1.0  ...           1.0   \n",
              "2                             0.0                      0.0  ...           1.0   \n",
              "3                             0.0                      0.0  ...           1.0   \n",
              "4                             1.0                      1.0  ...           0.0   \n",
              "...                           ...                      ...  ...           ...   \n",
              "180848                        1.0                      1.0  ...           1.0   \n",
              "180850                        0.0                      0.0  ...           1.0   \n",
              "180851                        0.0                      0.0  ...           1.0   \n",
              "180857                        1.0                      1.0  ...           1.0   \n",
              "180861                        1.0                      1.0  ...           1.0   \n",
              "\n",
              "        Employment_Status_NotInWorkForce  Employment_Status_Unemployed  \\\n",
              "0                                    0.0                           0.0   \n",
              "1                                    0.0                           0.0   \n",
              "2                                    0.0                           0.0   \n",
              "3                                    0.0                           0.0   \n",
              "4                                    0.0                           0.0   \n",
              "...                                  ...                           ...   \n",
              "180848                               0.0                           0.0   \n",
              "180850                               0.0                           0.0   \n",
              "180851                               0.0                           0.0   \n",
              "180857                               0.0                           0.0   \n",
              "180861                               0.0                           0.0   \n",
              "\n",
              "        NatureOfEmployment_Permanent  NatureOfEmployment_Short-Term  \\\n",
              "0                                1.0                            0.0   \n",
              "1                                0.0                            1.0   \n",
              "2                                0.0                            1.0   \n",
              "3                                1.0                            0.0   \n",
              "4                                1.0                            0.0   \n",
              "...                              ...                            ...   \n",
              "180848                           1.0                            0.0   \n",
              "180850                           1.0                            0.0   \n",
              "180851                           1.0                            0.0   \n",
              "180857                           1.0                            0.0   \n",
              "180861                           1.0                            0.0   \n",
              "\n",
              "        Hours_Work_Total  Marital_Status  Working_Hours_Per_Week  \\\n",
              "0                     32               1                       7   \n",
              "1                      8               1                       3   \n",
              "2                     34               0                       7   \n",
              "3                     33               1                       3   \n",
              "4                     72               1                      11   \n",
              "...                  ...             ...                     ...   \n",
              "180848                45               0                       7   \n",
              "180850                40               1                       4   \n",
              "180851                48               1                       3   \n",
              "180857                40               1                       7   \n",
              "180861                28               0                       3   \n",
              "\n",
              "        Class_Of_Worker  Payment_Basis  \n",
              "0                     3              4  \n",
              "1                     6              4  \n",
              "2                     1              3  \n",
              "3                     3              4  \n",
              "4                     0              4  \n",
              "...                 ...            ...  \n",
              "180848                2              4  \n",
              "180850                3              4  \n",
              "180851                3              4  \n",
              "180857                4              4  \n",
              "180861                3              4  \n",
              "\n",
              "[97336 rows x 32 columns]"
            ],
            "text/html": [
              "<div>\n",
              "<style scoped>\n",
              "    .dataframe tbody tr th:only-of-type {\n",
              "        vertical-align: middle;\n",
              "    }\n",
              "\n",
              "    .dataframe tbody tr th {\n",
              "        vertical-align: top;\n",
              "    }\n",
              "\n",
              "    .dataframe thead th {\n",
              "        text-align: right;\n",
              "    }\n",
              "</style>\n",
              "<table border=\"1\" class=\"dataframe\">\n",
              "  <thead>\n",
              "    <tr style=\"text-align: right;\">\n",
              "      <th></th>\n",
              "      <th>Household_Size</th>\n",
              "      <th>Relationship</th>\n",
              "      <th>Age</th>\n",
              "      <th>Is_Rural</th>\n",
              "      <th>Is_Female</th>\n",
              "      <th>Is_Not_In_School</th>\n",
              "      <th>Is_Not_In_Techvoc</th>\n",
              "      <th>Is_Not_Working</th>\n",
              "      <th>Has_Not_Wanted_More_Hours</th>\n",
              "      <th>Has_Not_Looked_For_Work</th>\n",
              "      <th>...</th>\n",
              "      <th>Work48H_Want</th>\n",
              "      <th>Employment_Status_NotInWorkForce</th>\n",
              "      <th>Employment_Status_Unemployed</th>\n",
              "      <th>NatureOfEmployment_Permanent</th>\n",
              "      <th>NatureOfEmployment_Short-Term</th>\n",
              "      <th>Hours_Work_Total</th>\n",
              "      <th>Marital_Status</th>\n",
              "      <th>Working_Hours_Per_Week</th>\n",
              "      <th>Class_Of_Worker</th>\n",
              "      <th>Payment_Basis</th>\n",
              "    </tr>\n",
              "  </thead>\n",
              "  <tbody>\n",
              "    <tr>\n",
              "      <th>0</th>\n",
              "      <td>3</td>\n",
              "      <td>1</td>\n",
              "      <td>49</td>\n",
              "      <td>1.0</td>\n",
              "      <td>0.0</td>\n",
              "      <td>0.0</td>\n",
              "      <td>1.0</td>\n",
              "      <td>0.0</td>\n",
              "      <td>0.0</td>\n",
              "      <td>0.0</td>\n",
              "      <td>...</td>\n",
              "      <td>1.0</td>\n",
              "      <td>0.0</td>\n",
              "      <td>0.0</td>\n",
              "      <td>1.0</td>\n",
              "      <td>0.0</td>\n",
              "      <td>32</td>\n",
              "      <td>1</td>\n",
              "      <td>7</td>\n",
              "      <td>3</td>\n",
              "      <td>4</td>\n",
              "    </tr>\n",
              "    <tr>\n",
              "      <th>1</th>\n",
              "      <td>3</td>\n",
              "      <td>2</td>\n",
              "      <td>61</td>\n",
              "      <td>1.0</td>\n",
              "      <td>1.0</td>\n",
              "      <td>0.0</td>\n",
              "      <td>1.0</td>\n",
              "      <td>0.0</td>\n",
              "      <td>1.0</td>\n",
              "      <td>1.0</td>\n",
              "      <td>...</td>\n",
              "      <td>1.0</td>\n",
              "      <td>0.0</td>\n",
              "      <td>0.0</td>\n",
              "      <td>0.0</td>\n",
              "      <td>1.0</td>\n",
              "      <td>8</td>\n",
              "      <td>1</td>\n",
              "      <td>3</td>\n",
              "      <td>6</td>\n",
              "      <td>4</td>\n",
              "    </tr>\n",
              "    <tr>\n",
              "      <th>2</th>\n",
              "      <td>3</td>\n",
              "      <td>3</td>\n",
              "      <td>19</td>\n",
              "      <td>1.0</td>\n",
              "      <td>0.0</td>\n",
              "      <td>1.0</td>\n",
              "      <td>1.0</td>\n",
              "      <td>0.0</td>\n",
              "      <td>0.0</td>\n",
              "      <td>0.0</td>\n",
              "      <td>...</td>\n",
              "      <td>1.0</td>\n",
              "      <td>0.0</td>\n",
              "      <td>0.0</td>\n",
              "      <td>0.0</td>\n",
              "      <td>1.0</td>\n",
              "      <td>34</td>\n",
              "      <td>0</td>\n",
              "      <td>7</td>\n",
              "      <td>1</td>\n",
              "      <td>3</td>\n",
              "    </tr>\n",
              "    <tr>\n",
              "      <th>3</th>\n",
              "      <td>4</td>\n",
              "      <td>1</td>\n",
              "      <td>48</td>\n",
              "      <td>1.0</td>\n",
              "      <td>0.0</td>\n",
              "      <td>0.0</td>\n",
              "      <td>1.0</td>\n",
              "      <td>0.0</td>\n",
              "      <td>0.0</td>\n",
              "      <td>0.0</td>\n",
              "      <td>...</td>\n",
              "      <td>1.0</td>\n",
              "      <td>0.0</td>\n",
              "      <td>0.0</td>\n",
              "      <td>1.0</td>\n",
              "      <td>0.0</td>\n",
              "      <td>33</td>\n",
              "      <td>1</td>\n",
              "      <td>3</td>\n",
              "      <td>3</td>\n",
              "      <td>4</td>\n",
              "    </tr>\n",
              "    <tr>\n",
              "      <th>4</th>\n",
              "      <td>4</td>\n",
              "      <td>2</td>\n",
              "      <td>41</td>\n",
              "      <td>1.0</td>\n",
              "      <td>1.0</td>\n",
              "      <td>0.0</td>\n",
              "      <td>1.0</td>\n",
              "      <td>0.0</td>\n",
              "      <td>1.0</td>\n",
              "      <td>1.0</td>\n",
              "      <td>...</td>\n",
              "      <td>0.0</td>\n",
              "      <td>0.0</td>\n",
              "      <td>0.0</td>\n",
              "      <td>1.0</td>\n",
              "      <td>0.0</td>\n",
              "      <td>72</td>\n",
              "      <td>1</td>\n",
              "      <td>11</td>\n",
              "      <td>0</td>\n",
              "      <td>4</td>\n",
              "    </tr>\n",
              "    <tr>\n",
              "      <th>...</th>\n",
              "      <td>...</td>\n",
              "      <td>...</td>\n",
              "      <td>...</td>\n",
              "      <td>...</td>\n",
              "      <td>...</td>\n",
              "      <td>...</td>\n",
              "      <td>...</td>\n",
              "      <td>...</td>\n",
              "      <td>...</td>\n",
              "      <td>...</td>\n",
              "      <td>...</td>\n",
              "      <td>...</td>\n",
              "      <td>...</td>\n",
              "      <td>...</td>\n",
              "      <td>...</td>\n",
              "      <td>...</td>\n",
              "      <td>...</td>\n",
              "      <td>...</td>\n",
              "      <td>...</td>\n",
              "      <td>...</td>\n",
              "      <td>...</td>\n",
              "    </tr>\n",
              "    <tr>\n",
              "      <th>180848</th>\n",
              "      <td>6</td>\n",
              "      <td>3</td>\n",
              "      <td>25</td>\n",
              "      <td>1.0</td>\n",
              "      <td>0.0</td>\n",
              "      <td>0.0</td>\n",
              "      <td>1.0</td>\n",
              "      <td>0.0</td>\n",
              "      <td>1.0</td>\n",
              "      <td>1.0</td>\n",
              "      <td>...</td>\n",
              "      <td>1.0</td>\n",
              "      <td>0.0</td>\n",
              "      <td>0.0</td>\n",
              "      <td>1.0</td>\n",
              "      <td>0.0</td>\n",
              "      <td>45</td>\n",
              "      <td>0</td>\n",
              "      <td>7</td>\n",
              "      <td>2</td>\n",
              "      <td>4</td>\n",
              "    </tr>\n",
              "    <tr>\n",
              "      <th>180850</th>\n",
              "      <td>7</td>\n",
              "      <td>1</td>\n",
              "      <td>34</td>\n",
              "      <td>1.0</td>\n",
              "      <td>0.0</td>\n",
              "      <td>0.0</td>\n",
              "      <td>1.0</td>\n",
              "      <td>0.0</td>\n",
              "      <td>0.0</td>\n",
              "      <td>0.0</td>\n",
              "      <td>...</td>\n",
              "      <td>1.0</td>\n",
              "      <td>0.0</td>\n",
              "      <td>0.0</td>\n",
              "      <td>1.0</td>\n",
              "      <td>0.0</td>\n",
              "      <td>40</td>\n",
              "      <td>1</td>\n",
              "      <td>4</td>\n",
              "      <td>3</td>\n",
              "      <td>4</td>\n",
              "    </tr>\n",
              "    <tr>\n",
              "      <th>180851</th>\n",
              "      <td>7</td>\n",
              "      <td>2</td>\n",
              "      <td>32</td>\n",
              "      <td>1.0</td>\n",
              "      <td>1.0</td>\n",
              "      <td>0.0</td>\n",
              "      <td>1.0</td>\n",
              "      <td>0.0</td>\n",
              "      <td>0.0</td>\n",
              "      <td>0.0</td>\n",
              "      <td>...</td>\n",
              "      <td>1.0</td>\n",
              "      <td>0.0</td>\n",
              "      <td>0.0</td>\n",
              "      <td>1.0</td>\n",
              "      <td>0.0</td>\n",
              "      <td>48</td>\n",
              "      <td>1</td>\n",
              "      <td>3</td>\n",
              "      <td>3</td>\n",
              "      <td>4</td>\n",
              "    </tr>\n",
              "    <tr>\n",
              "      <th>180857</th>\n",
              "      <td>5</td>\n",
              "      <td>1</td>\n",
              "      <td>29</td>\n",
              "      <td>1.0</td>\n",
              "      <td>0.0</td>\n",
              "      <td>0.0</td>\n",
              "      <td>1.0</td>\n",
              "      <td>0.0</td>\n",
              "      <td>1.0</td>\n",
              "      <td>1.0</td>\n",
              "      <td>...</td>\n",
              "      <td>1.0</td>\n",
              "      <td>0.0</td>\n",
              "      <td>0.0</td>\n",
              "      <td>1.0</td>\n",
              "      <td>0.0</td>\n",
              "      <td>40</td>\n",
              "      <td>1</td>\n",
              "      <td>7</td>\n",
              "      <td>4</td>\n",
              "      <td>4</td>\n",
              "    </tr>\n",
              "    <tr>\n",
              "      <th>180861</th>\n",
              "      <td>5</td>\n",
              "      <td>8</td>\n",
              "      <td>18</td>\n",
              "      <td>1.0</td>\n",
              "      <td>0.0</td>\n",
              "      <td>1.0</td>\n",
              "      <td>1.0</td>\n",
              "      <td>0.0</td>\n",
              "      <td>1.0</td>\n",
              "      <td>1.0</td>\n",
              "      <td>...</td>\n",
              "      <td>1.0</td>\n",
              "      <td>0.0</td>\n",
              "      <td>0.0</td>\n",
              "      <td>1.0</td>\n",
              "      <td>0.0</td>\n",
              "      <td>28</td>\n",
              "      <td>0</td>\n",
              "      <td>3</td>\n",
              "      <td>3</td>\n",
              "      <td>4</td>\n",
              "    </tr>\n",
              "  </tbody>\n",
              "</table>\n",
              "<p>97336 rows × 32 columns</p>\n",
              "</div>"
            ]
          },
          "execution_count": 83,
          "metadata": {},
          "output_type": "execute_result"
        }
      ],
      "execution_count": null
    },
    {
      "metadata": {
        "ExecuteTime": {
          "end_time": "2025-03-27T19:46:54.423339Z",
          "start_time": "2025-03-27T19:46:31.938403Z"
        },
        "id": "YgCupBaFKDcV",
        "outputId": "0ecbd880-cafc-4cad-faa7-ce3333d87f1e",
        "colab": {
          "referenced_widgets": [
            "494aa15fc0e046928209e50d78202bbc",
            "5406afb019e04871961e0aa4b4d50716",
            "7ca5e7f2856143b2ab201b84a5a9d527",
            "ac63ffd2dd6c47a784d1654a268889c9"
          ]
        }
      },
      "cell_type": "code",
      "source": [
        "generate_report(df, \"report-encoded\")"
      ],
      "outputs": [
        {
          "data": {
            "text/plain": [
              "Summarize dataset:   0%|          | 0/5 [00:00<?, ?it/s]"
            ],
            "application/vnd.jupyter.widget-view+json": {
              "version_major": 2,
              "version_minor": 0,
              "model_id": "494aa15fc0e046928209e50d78202bbc"
            }
          },
          "metadata": {},
          "output_type": "display_data"
        },
        {
          "name": "stderr",
          "output_type": "stream",
          "text": [
            "\n",
            "  0%|          | 0/32 [00:00<?, ?it/s]\u001b[A\n",
            " 19%|█▉        | 6/32 [00:00<00:00, 46.74it/s]\u001b[A\n",
            "100%|██████████| 32/32 [00:01<00:00, 25.91it/s]\u001b[A\n"
          ]
        },
        {
          "data": {
            "text/plain": [
              "Generate report structure:   0%|          | 0/1 [00:00<?, ?it/s]"
            ],
            "application/vnd.jupyter.widget-view+json": {
              "version_major": 2,
              "version_minor": 0,
              "model_id": "5406afb019e04871961e0aa4b4d50716"
            }
          },
          "metadata": {},
          "output_type": "display_data"
        },
        {
          "data": {
            "text/plain": [
              "Render HTML:   0%|          | 0/1 [00:00<?, ?it/s]"
            ],
            "application/vnd.jupyter.widget-view+json": {
              "version_major": 2,
              "version_minor": 0,
              "model_id": "7ca5e7f2856143b2ab201b84a5a9d527"
            }
          },
          "metadata": {},
          "output_type": "display_data"
        },
        {
          "data": {
            "text/plain": [
              "Export report to file:   0%|          | 0/1 [00:00<?, ?it/s]"
            ],
            "application/vnd.jupyter.widget-view+json": {
              "version_major": 2,
              "version_minor": 0,
              "model_id": "ac63ffd2dd6c47a784d1654a268889c9"
            }
          },
          "metadata": {},
          "output_type": "display_data"
        }
      ],
      "execution_count": null
    },
    {
      "metadata": {
        "id": "SrxW5OzHKDcV"
      },
      "cell_type": "markdown",
      "source": [
        "# Initial Logistic Regression Model"
      ]
    },
    {
      "metadata": {
        "id": "7hT4PUscKDcV"
      },
      "cell_type": "code",
      "outputs": [],
      "execution_count": null,
      "source": [
        "df"
      ]
    },
    {
      "metadata": {
        "id": "tZPO9QttKDcV"
      },
      "cell_type": "markdown",
      "source": [
        "Libraries for the model"
      ]
    },
    {
      "metadata": {
        "id": "JSaY9jaTKDcV"
      },
      "cell_type": "code",
      "outputs": [],
      "execution_count": null,
      "source": [
        "from logistic_model import train_logistic_regression, load_logistic_model\n",
        "from sklearn.metrics import classification_report"
      ]
    },
    {
      "metadata": {
        "id": "LH5-kVUxKDcV"
      },
      "cell_type": "code",
      "outputs": [],
      "execution_count": null,
      "source": [
        "df_copy = df.copy() # copy of original dataframe just to avoid any changes to original dataframe"
      ]
    },
    {
      "metadata": {
        "id": "0nu0S5BRKDcV"
      },
      "cell_type": "markdown",
      "source": [
        "Preparing data from data frame"
      ]
    },
    {
      "metadata": {
        "id": "VODL2av8KDcV"
      },
      "cell_type": "code",
      "outputs": [],
      "execution_count": null,
      "source": [
        "features = ['PUFPWGTFIN', 'PUFPSU', 'PUFHHSIZE', 'PUFC03_REL',\n",
        "       'PUFC05_AGE', 'PUFC06_MSTAT', 'PUFC07_GRADE', 'PUFC08_CURSCH',\n",
        "       'PUFC09_GRADTECH', 'PUFC11_WORK', 'PUFC12_JOB', 'PUFC16_PKB',\n",
        "       'PUFC17_NATEM', 'PUFC18_PNWHRS', 'PUFC19_PHOURS', 'PUFC20_PWMORE',\n",
        "       'PUFC21_PLADDW', 'PUFC22_PFWRK', 'PUFC23_PCLASS', 'PUFC24_PBASIS',\n",
        "       'PUFC26_OJOB', 'PUFC28_THOURS', 'PUFC29_WWM48H', 'PUFC30_LOOKW',\n",
        "       'PUFC36_AVAIL', 'PUFC38_PREVJOB', 'PUFC40_POCC', 'PUFC41_WQTR',\n",
        "       'PUFC43_QKB', 'PUFNEWEMPSTAT', 'Education', 'Rural_Area'] # removed 'Program' because it was causing error in model training\n",
        "target = 'PUFC23_PCLASS'\n"
      ]
    },
    {
      "metadata": {
        "id": "YmcI2bUXKDcW"
      },
      "cell_type": "markdown",
      "source": [
        "Training the model (run once or conditionally). Also, the model will be saved in logistic_model.pkl"
      ]
    },
    {
      "metadata": {
        "id": "zWFlULumKDcW"
      },
      "cell_type": "code",
      "outputs": [],
      "execution_count": null,
      "source": [
        "train_logistic_regression(df_copy, features, target)"
      ]
    },
    {
      "metadata": {
        "id": "VjfBQRfcKDcW"
      },
      "cell_type": "markdown",
      "source": [
        "Load the model and scaler"
      ]
    },
    {
      "metadata": {
        "id": "I_To_2BRKDcW"
      },
      "cell_type": "code",
      "outputs": [],
      "execution_count": null,
      "source": [
        "saved = load_logistic_model()\n",
        "model = saved['model']\n",
        "scaler = saved['scaler']\n"
      ]
    },
    {
      "metadata": {
        "id": "Tmzrh1twKDcW"
      },
      "cell_type": "markdown",
      "source": [
        "Using the model for prediction"
      ]
    },
    {
      "metadata": {
        "id": "y1n6KczLKDcW"
      },
      "cell_type": "code",
      "outputs": [],
      "execution_count": null,
      "source": [
        "X_test_scaled = scaler.transform(df[features])  # example batch only\n",
        "y_pred = model.predict(X_test_scaled)"
      ]
    },
    {
      "metadata": {
        "id": "_HOMWC7hKDcW"
      },
      "cell_type": "markdown",
      "source": [
        "Results"
      ]
    },
    {
      "metadata": {
        "id": "cMquxrQYKDcW"
      },
      "cell_type": "code",
      "outputs": [],
      "execution_count": null,
      "source": [
        "print(classification_report(df_copy[target], y_pred))"
      ]
    },
    {
      "metadata": {
        "id": "FQ6Z9VqGKDcX"
      },
      "cell_type": "markdown",
      "source": [
        "The classification report shows that the model achieved an overall accuracy of 1.00, indicating perfect performance on the dataset. However, this unusually high accuracy may suggest the presence of class imbalance or overfitting. Upon further inspection, the performance per class reveals the following:\n",
        "\n",
        "* Class 1 is the dominant class with 141,556 support. It achieves perfect precision, recall, and F1-score, which is expected due to the large number of samples.\n",
        "\n",
        "* Classes 0, 2, 3, 4, and 6 also demonstrate near-perfect performance with precision, recall, and F1-scores close to or equal to 1.00, indicating that the model performs very well on these classes.\n",
        "\n",
        "* Class 5, however, is problematic. Despite having a precision of 0.90, it suffers from a low recall of 0.60, meaning the model fails to identify 40% of actual Class 5 instances. Its F1-score drops to 0.72, which is significantly lower than the other classes. This class also has very low support with only 216 samples, contributing to its poor performance.\n",
        "\n"
      ]
    },
    {
      "cell_type": "markdown",
      "metadata": {
        "id": "oC17pdg3KDcf"
      },
      "source": [
        "There are two main issues as seen from the results. Firstly, Class 1 heavily outweighs all other classes, making the model biased toward predicting this class. This imbalance can skew performance metrics and mask poor detection of minority classes. On the other hand, Class 5 being a minority class with very low training samples struggles to generalize well on this class, as shown by the low recall, resulting in many false negatives."
      ]
    }
  ],
  "metadata": {
    "colab": {
      "provenance": [],
      "include_colab_link": true
    },
    "kernelspec": {
      "display_name": "Python 3",
      "language": "python",
      "name": "python3"
    },
    "language_info": {
      "codemirror_mode": {
        "name": "ipython",
        "version": 3
      },
      "file_extension": ".py",
      "mimetype": "text/x-python",
      "name": "python",
      "nbconvert_exporter": "python",
      "pygments_lexer": "ipython3",
      "version": "3.12.0"
    },
    "widgets": {
      "application/vnd.jupyter.widget-state+json": {}
    }
  },
  "nbformat": 4,
  "nbformat_minor": 0
}